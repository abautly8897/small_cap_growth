{
 "cells": [
  {
   "cell_type": "markdown",
   "source": [
    "# 5年营业收入增长率 sales_growth\n",
    "过去5个财年的 每股营业收入增长 除以 年均每股营业收入\n",
    "\n",
    "注意：对于基本面数据，\n",
    "每年11-第二年4月使用前一年0930的TTM数据，既三季报+前一年四季度\n",
    "5-8月使用1季度0331的TTM数据，\n",
    "9-10月使用中报0630的TTM数据，\n",
    "11-12月使用当年三季报0930的TTM数据"
   ],
   "metadata": {
    "collapsed": false
   }
  },
  {
   "cell_type": "code",
   "execution_count": 14,
   "outputs": [
    {
     "name": "stdout",
     "output_type": "stream",
     "text": [
      "['D:\\\\program\\\\PyCharm 2022.3.3\\\\plugins\\\\python\\\\helpers-pro\\\\jupyter_debug', 'D:\\\\program\\\\PyCharm 2022.3.3\\\\plugins\\\\python\\\\helpers\\\\pydev', 'J:\\\\Quant\\\\JQ\\\\scap_growth', 'J:\\\\Quant\\\\JQ\\\\scap_growth', 'D:\\\\program\\\\python310.zip', 'D:\\\\program\\\\DLLs', 'D:\\\\program\\\\lib', 'D:\\\\program', 'J:\\\\Quant\\\\junhe_quant\\\\scap_growth', '', 'J:\\\\Quant\\\\junhe_quant\\\\scap_growth\\\\lib\\\\site-packages', 'J:\\\\Quant\\\\junhe_quant\\\\scap_growth\\\\lib\\\\site-packages\\\\win32', 'J:\\\\Quant\\\\junhe_quant\\\\scap_growth\\\\lib\\\\site-packages\\\\win32\\\\lib', 'J:\\\\Quant\\\\junhe_quant\\\\scap_growth\\\\lib\\\\site-packages\\\\Pythonwin', 'J:\\\\Quant\\\\freq_used_funcs']\n"
     ]
    }
   ],
   "source": [
    "import sys\n",
    "\n",
    "# sys.path.append('J:\\\\Quant\\\\freq_used_funcs')\n",
    "print(sys.path)"
   ],
   "metadata": {
    "collapsed": false
   }
  },
  {
   "cell_type": "code",
   "execution_count": 19,
   "outputs": [],
   "source": [
    "# 获取tushare每股营业收入数据\n",
    "import tushare as ts\n",
    "\n",
    "pro = ts.pro_api('e9628663b45f87ea92e39aaa7127063830ebd5090bc1e8943138b84f')\n",
    "import security_basic_info\n",
    "\n",
    "\n"
   ],
   "metadata": {
    "collapsed": false
   }
  },
  {
   "cell_type": "code",
   "execution_count": 20,
   "outputs": [
    {
     "data": {
      "text/plain": "       ts_code  ann_date  end_date   eps  dt_eps  total_revenue_ps  \\\n0    A22231.SZ  20230118  20221231  4.14    4.05           27.3891   \n1    A22460.SZ  20230118  20221231   NaN     NaN               NaN   \n2    A22278.SZ  20230130  20221231   NaN     NaN               NaN   \n3    A22137.BJ  20230201  20221231  0.45    0.45           13.0174   \n4    A21410.SZ  20230310  20221231  0.27    0.27            2.6092   \n..         ...       ...       ...   ...     ...               ...   \n951  300602.SZ  20230328  20221231  0.19    0.19            8.1200   \n952  000728.SZ  20230328  20221231  0.40    0.40            1.2240   \n953  301387.SZ  20230328  20221231  1.99    1.99           17.4685   \n954  688669.SH  20230328  20221231  0.48    0.48           42.4009   \n955  002611.SZ  20230328  20221231  0.37    0.37            3.1365   \n\n     revenue_ps  capital_rese_ps  surplus_rese_ps  undist_profit_ps  ...  \\\n0       27.3891           1.4895           0.5000            6.4809  ...   \n1           NaN              NaN              NaN               NaN  ...   \n2           NaN              NaN              NaN               NaN  ...   \n3       13.0174           1.6935           0.1906            0.8117  ...   \n4        2.6092           0.2330           0.0900            0.4380  ...   \n..          ...              ...              ...               ...  ...   \n951      8.1200           1.4673           0.2645            2.2642  ...   \n952      1.2240           3.8979           0.3965            1.4172  ...   \n953     17.4685           3.7484           0.3324            4.9683  ...   \n954     42.4009           9.4933           0.5000            5.5041  ...   \n955      3.1365           2.3747           0.0418            0.0185  ...   \n\n      roe_yoy  bps_yoy  assets_yoy  eqt_yoy   tr_yoy   or_yoy  q_sales_yoy  \\\n0     62.8621  74.3120     62.2231  74.3135  58.6078  58.6078          NaN   \n1     43.1659      NaN     45.6121  25.5637  91.0482  91.0482          NaN   \n2    -11.0430      NaN     30.7480  41.9701  21.4938  21.4938          NaN   \n3      4.2923   4.7087     -1.5606   4.7099  15.8528  15.8528      40.7736   \n4     43.0436  17.3300      4.2451  17.7526  36.9964  36.9964       3.2901   \n..        ...      ...         ...      ...      ...      ...          ...   \n951  206.7988   3.8571     13.4031   4.1800  34.8757  34.8757      27.1002   \n952  -11.0162   1.9942     12.9670   1.9900 -12.5816 -12.5816     -38.5017   \n953  -26.4285  19.6679     19.7587  19.6675   0.0342   0.0342          NaN   \n954  -47.5376   3.3609     13.9227   3.3610  55.6982  55.6982       8.4631   \n955  -13.3071  18.4525      8.9884  10.3748  10.4398  10.4398      38.8246   \n\n     q_op_qoq  equity_yoy  update_flag  \n0         NaN     74.3135            1  \n1         NaN     25.5637            1  \n2         NaN     41.9701            0  \n3    477.0235      4.7099            1  \n4     41.0361     17.7526            1  \n..        ...         ...          ...  \n951  112.9481      4.1800            1  \n952   23.8076      1.9940            1  \n953       NaN     19.6675            1  \n954  391.3618      3.3610            1  \n955  383.0528     10.3748            1  \n\n[956 rows x 109 columns]",
      "text/html": "<div>\n<style scoped>\n    .dataframe tbody tr th:only-of-type {\n        vertical-align: middle;\n    }\n\n    .dataframe tbody tr th {\n        vertical-align: top;\n    }\n\n    .dataframe thead th {\n        text-align: right;\n    }\n</style>\n<table border=\"1\" class=\"dataframe\">\n  <thead>\n    <tr style=\"text-align: right;\">\n      <th></th>\n      <th>ts_code</th>\n      <th>ann_date</th>\n      <th>end_date</th>\n      <th>eps</th>\n      <th>dt_eps</th>\n      <th>total_revenue_ps</th>\n      <th>revenue_ps</th>\n      <th>capital_rese_ps</th>\n      <th>surplus_rese_ps</th>\n      <th>undist_profit_ps</th>\n      <th>...</th>\n      <th>roe_yoy</th>\n      <th>bps_yoy</th>\n      <th>assets_yoy</th>\n      <th>eqt_yoy</th>\n      <th>tr_yoy</th>\n      <th>or_yoy</th>\n      <th>q_sales_yoy</th>\n      <th>q_op_qoq</th>\n      <th>equity_yoy</th>\n      <th>update_flag</th>\n    </tr>\n  </thead>\n  <tbody>\n    <tr>\n      <th>0</th>\n      <td>A22231.SZ</td>\n      <td>20230118</td>\n      <td>20221231</td>\n      <td>4.14</td>\n      <td>4.05</td>\n      <td>27.3891</td>\n      <td>27.3891</td>\n      <td>1.4895</td>\n      <td>0.5000</td>\n      <td>6.4809</td>\n      <td>...</td>\n      <td>62.8621</td>\n      <td>74.3120</td>\n      <td>62.2231</td>\n      <td>74.3135</td>\n      <td>58.6078</td>\n      <td>58.6078</td>\n      <td>NaN</td>\n      <td>NaN</td>\n      <td>74.3135</td>\n      <td>1</td>\n    </tr>\n    <tr>\n      <th>1</th>\n      <td>A22460.SZ</td>\n      <td>20230118</td>\n      <td>20221231</td>\n      <td>NaN</td>\n      <td>NaN</td>\n      <td>NaN</td>\n      <td>NaN</td>\n      <td>NaN</td>\n      <td>NaN</td>\n      <td>NaN</td>\n      <td>...</td>\n      <td>43.1659</td>\n      <td>NaN</td>\n      <td>45.6121</td>\n      <td>25.5637</td>\n      <td>91.0482</td>\n      <td>91.0482</td>\n      <td>NaN</td>\n      <td>NaN</td>\n      <td>25.5637</td>\n      <td>1</td>\n    </tr>\n    <tr>\n      <th>2</th>\n      <td>A22278.SZ</td>\n      <td>20230130</td>\n      <td>20221231</td>\n      <td>NaN</td>\n      <td>NaN</td>\n      <td>NaN</td>\n      <td>NaN</td>\n      <td>NaN</td>\n      <td>NaN</td>\n      <td>NaN</td>\n      <td>...</td>\n      <td>-11.0430</td>\n      <td>NaN</td>\n      <td>30.7480</td>\n      <td>41.9701</td>\n      <td>21.4938</td>\n      <td>21.4938</td>\n      <td>NaN</td>\n      <td>NaN</td>\n      <td>41.9701</td>\n      <td>0</td>\n    </tr>\n    <tr>\n      <th>3</th>\n      <td>A22137.BJ</td>\n      <td>20230201</td>\n      <td>20221231</td>\n      <td>0.45</td>\n      <td>0.45</td>\n      <td>13.0174</td>\n      <td>13.0174</td>\n      <td>1.6935</td>\n      <td>0.1906</td>\n      <td>0.8117</td>\n      <td>...</td>\n      <td>4.2923</td>\n      <td>4.7087</td>\n      <td>-1.5606</td>\n      <td>4.7099</td>\n      <td>15.8528</td>\n      <td>15.8528</td>\n      <td>40.7736</td>\n      <td>477.0235</td>\n      <td>4.7099</td>\n      <td>1</td>\n    </tr>\n    <tr>\n      <th>4</th>\n      <td>A21410.SZ</td>\n      <td>20230310</td>\n      <td>20221231</td>\n      <td>0.27</td>\n      <td>0.27</td>\n      <td>2.6092</td>\n      <td>2.6092</td>\n      <td>0.2330</td>\n      <td>0.0900</td>\n      <td>0.4380</td>\n      <td>...</td>\n      <td>43.0436</td>\n      <td>17.3300</td>\n      <td>4.2451</td>\n      <td>17.7526</td>\n      <td>36.9964</td>\n      <td>36.9964</td>\n      <td>3.2901</td>\n      <td>41.0361</td>\n      <td>17.7526</td>\n      <td>1</td>\n    </tr>\n    <tr>\n      <th>...</th>\n      <td>...</td>\n      <td>...</td>\n      <td>...</td>\n      <td>...</td>\n      <td>...</td>\n      <td>...</td>\n      <td>...</td>\n      <td>...</td>\n      <td>...</td>\n      <td>...</td>\n      <td>...</td>\n      <td>...</td>\n      <td>...</td>\n      <td>...</td>\n      <td>...</td>\n      <td>...</td>\n      <td>...</td>\n      <td>...</td>\n      <td>...</td>\n      <td>...</td>\n      <td>...</td>\n    </tr>\n    <tr>\n      <th>951</th>\n      <td>300602.SZ</td>\n      <td>20230328</td>\n      <td>20221231</td>\n      <td>0.19</td>\n      <td>0.19</td>\n      <td>8.1200</td>\n      <td>8.1200</td>\n      <td>1.4673</td>\n      <td>0.2645</td>\n      <td>2.2642</td>\n      <td>...</td>\n      <td>206.7988</td>\n      <td>3.8571</td>\n      <td>13.4031</td>\n      <td>4.1800</td>\n      <td>34.8757</td>\n      <td>34.8757</td>\n      <td>27.1002</td>\n      <td>112.9481</td>\n      <td>4.1800</td>\n      <td>1</td>\n    </tr>\n    <tr>\n      <th>952</th>\n      <td>000728.SZ</td>\n      <td>20230328</td>\n      <td>20221231</td>\n      <td>0.40</td>\n      <td>0.40</td>\n      <td>1.2240</td>\n      <td>1.2240</td>\n      <td>3.8979</td>\n      <td>0.3965</td>\n      <td>1.4172</td>\n      <td>...</td>\n      <td>-11.0162</td>\n      <td>1.9942</td>\n      <td>12.9670</td>\n      <td>1.9900</td>\n      <td>-12.5816</td>\n      <td>-12.5816</td>\n      <td>-38.5017</td>\n      <td>23.8076</td>\n      <td>1.9940</td>\n      <td>1</td>\n    </tr>\n    <tr>\n      <th>953</th>\n      <td>301387.SZ</td>\n      <td>20230328</td>\n      <td>20221231</td>\n      <td>1.99</td>\n      <td>1.99</td>\n      <td>17.4685</td>\n      <td>17.4685</td>\n      <td>3.7484</td>\n      <td>0.3324</td>\n      <td>4.9683</td>\n      <td>...</td>\n      <td>-26.4285</td>\n      <td>19.6679</td>\n      <td>19.7587</td>\n      <td>19.6675</td>\n      <td>0.0342</td>\n      <td>0.0342</td>\n      <td>NaN</td>\n      <td>NaN</td>\n      <td>19.6675</td>\n      <td>1</td>\n    </tr>\n    <tr>\n      <th>954</th>\n      <td>688669.SH</td>\n      <td>20230328</td>\n      <td>20221231</td>\n      <td>0.48</td>\n      <td>0.48</td>\n      <td>42.4009</td>\n      <td>42.4009</td>\n      <td>9.4933</td>\n      <td>0.5000</td>\n      <td>5.5041</td>\n      <td>...</td>\n      <td>-47.5376</td>\n      <td>3.3609</td>\n      <td>13.9227</td>\n      <td>3.3610</td>\n      <td>55.6982</td>\n      <td>55.6982</td>\n      <td>8.4631</td>\n      <td>391.3618</td>\n      <td>3.3610</td>\n      <td>1</td>\n    </tr>\n    <tr>\n      <th>955</th>\n      <td>002611.SZ</td>\n      <td>20230328</td>\n      <td>20221231</td>\n      <td>0.37</td>\n      <td>0.37</td>\n      <td>3.1365</td>\n      <td>3.1365</td>\n      <td>2.3747</td>\n      <td>0.0418</td>\n      <td>0.0185</td>\n      <td>...</td>\n      <td>-13.3071</td>\n      <td>18.4525</td>\n      <td>8.9884</td>\n      <td>10.3748</td>\n      <td>10.4398</td>\n      <td>10.4398</td>\n      <td>38.8246</td>\n      <td>383.0528</td>\n      <td>10.3748</td>\n      <td>1</td>\n    </tr>\n  </tbody>\n</table>\n<p>956 rows × 109 columns</p>\n</div>"
     },
     "execution_count": 20,
     "metadata": {},
     "output_type": "execute_result"
    }
   ],
   "source": [
    "df = pro.fina_indicator_vip(period='20221231')\n",
    "df"
   ],
   "metadata": {
    "collapsed": false
   }
  },
  {
   "cell_type": "code",
   "execution_count": 22,
   "outputs": [
    {
     "data": {
      "text/plain": "     index    ts_code  ann_date  end_date     eps  revenue_ps\n0       10  001311.SZ  20230206  20221231  4.2000     31.6510\n1       11  001225.SZ  20230206  20221231  4.5500     10.2397\n2       13  001311.SZ  20230206  20221231  4.2000     31.6510\n3       16  001225.SZ  20230206  20221231  4.5500     10.2397\n4       27  301059.SZ  20230209  20221231  0.5400      2.2973\n..     ...        ...       ...       ...     ...         ...\n233    803  000990.SZ  20230325  20221231  0.0435      9.6420\n234    804  002712.SZ  20230325  20221231 -0.7039      7.6904\n235    805  001337.SZ  20230325  20221231  0.5500      1.3124\n236    807  002465.SZ  20230325  20221231  0.2900      2.4369\n237    819  000063.SZ  20230311  20221231  1.7100     25.9610\n\n[238 rows x 6 columns]",
      "text/html": "<div>\n<style scoped>\n    .dataframe tbody tr th:only-of-type {\n        vertical-align: middle;\n    }\n\n    .dataframe tbody tr th {\n        vertical-align: top;\n    }\n\n    .dataframe thead th {\n        text-align: right;\n    }\n</style>\n<table border=\"1\" class=\"dataframe\">\n  <thead>\n    <tr style=\"text-align: right;\">\n      <th></th>\n      <th>index</th>\n      <th>ts_code</th>\n      <th>ann_date</th>\n      <th>end_date</th>\n      <th>eps</th>\n      <th>revenue_ps</th>\n    </tr>\n  </thead>\n  <tbody>\n    <tr>\n      <th>0</th>\n      <td>10</td>\n      <td>001311.SZ</td>\n      <td>20230206</td>\n      <td>20221231</td>\n      <td>4.2000</td>\n      <td>31.6510</td>\n    </tr>\n    <tr>\n      <th>1</th>\n      <td>11</td>\n      <td>001225.SZ</td>\n      <td>20230206</td>\n      <td>20221231</td>\n      <td>4.5500</td>\n      <td>10.2397</td>\n    </tr>\n    <tr>\n      <th>2</th>\n      <td>13</td>\n      <td>001311.SZ</td>\n      <td>20230206</td>\n      <td>20221231</td>\n      <td>4.2000</td>\n      <td>31.6510</td>\n    </tr>\n    <tr>\n      <th>3</th>\n      <td>16</td>\n      <td>001225.SZ</td>\n      <td>20230206</td>\n      <td>20221231</td>\n      <td>4.5500</td>\n      <td>10.2397</td>\n    </tr>\n    <tr>\n      <th>4</th>\n      <td>27</td>\n      <td>301059.SZ</td>\n      <td>20230209</td>\n      <td>20221231</td>\n      <td>0.5400</td>\n      <td>2.2973</td>\n    </tr>\n    <tr>\n      <th>...</th>\n      <td>...</td>\n      <td>...</td>\n      <td>...</td>\n      <td>...</td>\n      <td>...</td>\n      <td>...</td>\n    </tr>\n    <tr>\n      <th>233</th>\n      <td>803</td>\n      <td>000990.SZ</td>\n      <td>20230325</td>\n      <td>20221231</td>\n      <td>0.0435</td>\n      <td>9.6420</td>\n    </tr>\n    <tr>\n      <th>234</th>\n      <td>804</td>\n      <td>002712.SZ</td>\n      <td>20230325</td>\n      <td>20221231</td>\n      <td>-0.7039</td>\n      <td>7.6904</td>\n    </tr>\n    <tr>\n      <th>235</th>\n      <td>805</td>\n      <td>001337.SZ</td>\n      <td>20230325</td>\n      <td>20221231</td>\n      <td>0.5500</td>\n      <td>1.3124</td>\n    </tr>\n    <tr>\n      <th>236</th>\n      <td>807</td>\n      <td>002465.SZ</td>\n      <td>20230325</td>\n      <td>20221231</td>\n      <td>0.2900</td>\n      <td>2.4369</td>\n    </tr>\n    <tr>\n      <th>237</th>\n      <td>819</td>\n      <td>000063.SZ</td>\n      <td>20230311</td>\n      <td>20221231</td>\n      <td>1.7100</td>\n      <td>25.9610</td>\n    </tr>\n  </tbody>\n</table>\n<p>238 rows × 6 columns</p>\n</div>"
     },
     "execution_count": 22,
     "metadata": {},
     "output_type": "execute_result"
    }
   ],
   "source": [
    "# 获取指定报告期所有证券的财务指标\n",
    "date = '20230326'\n",
    "securities = security_basic_info.get_all_security(date=date, result_type='ts_code')\n",
    "\n",
    "df = pro.fina_indicator_vip(period='20221231')\n",
    "revenue_ps_df = df.loc[:, ['ts_code', 'ann_date', 'end_date', 'eps', 'revenue_ps']]\n",
    "revenue_ps_df.dropna(inplace=True)\n",
    "revenue_ps_df = revenue_ps_df.loc[revenue_ps_df['ts_code'].isin(securities)]\n",
    "revenue_ps_df = revenue_ps_df[revenue_ps_df['ann_date'] <= date]\n",
    "revenue_ps_df = revenue_ps_df.reset_index()\n",
    "revenue_ps_df.drop('index', axis=1)\n",
    "revenue_ps_df"
   ],
   "metadata": {
    "collapsed": false
   }
  },
  {
   "cell_type": "code",
   "execution_count": 74,
   "outputs": [
    {
     "data": {
      "text/plain": "     index    ts_code  ann_date  end_date     eps  revenue_ps update_flag\n0       10  001311.SZ  20230206  20221231  4.2000     31.6510           0\n1       11  001225.SZ  20230206  20221231  4.5500     10.2397           0\n2       12  603073.SH  20230206  20221231  1.2600      8.4560           0\n3       13  001311.SZ  20230206  20221231  4.2000     31.6510           1\n4       16  001225.SZ  20230206  20221231  4.5500     10.2397           1\n..     ...        ...       ...       ...     ...         ...         ...\n200    413  002179.SZ  20230316  20221231  1.7249      9.7106           1\n201    414  688535.SH  20230316  20221231  0.6800      5.0106           1\n202    419  301203.SZ  20230316  20221231  2.4800      6.2738           1\n203    709  603291.SH  20230216  20221231  0.3400      3.0375           1\n204    819  000063.SZ  20230311  20221231  1.7100     25.9610           1\n\n[205 rows x 7 columns]",
      "text/html": "<div>\n<style scoped>\n    .dataframe tbody tr th:only-of-type {\n        vertical-align: middle;\n    }\n\n    .dataframe tbody tr th {\n        vertical-align: top;\n    }\n\n    .dataframe thead th {\n        text-align: right;\n    }\n</style>\n<table border=\"1\" class=\"dataframe\">\n  <thead>\n    <tr style=\"text-align: right;\">\n      <th></th>\n      <th>index</th>\n      <th>ts_code</th>\n      <th>ann_date</th>\n      <th>end_date</th>\n      <th>eps</th>\n      <th>revenue_ps</th>\n      <th>update_flag</th>\n    </tr>\n  </thead>\n  <tbody>\n    <tr>\n      <th>0</th>\n      <td>10</td>\n      <td>001311.SZ</td>\n      <td>20230206</td>\n      <td>20221231</td>\n      <td>4.2000</td>\n      <td>31.6510</td>\n      <td>0</td>\n    </tr>\n    <tr>\n      <th>1</th>\n      <td>11</td>\n      <td>001225.SZ</td>\n      <td>20230206</td>\n      <td>20221231</td>\n      <td>4.5500</td>\n      <td>10.2397</td>\n      <td>0</td>\n    </tr>\n    <tr>\n      <th>2</th>\n      <td>12</td>\n      <td>603073.SH</td>\n      <td>20230206</td>\n      <td>20221231</td>\n      <td>1.2600</td>\n      <td>8.4560</td>\n      <td>0</td>\n    </tr>\n    <tr>\n      <th>3</th>\n      <td>13</td>\n      <td>001311.SZ</td>\n      <td>20230206</td>\n      <td>20221231</td>\n      <td>4.2000</td>\n      <td>31.6510</td>\n      <td>1</td>\n    </tr>\n    <tr>\n      <th>4</th>\n      <td>16</td>\n      <td>001225.SZ</td>\n      <td>20230206</td>\n      <td>20221231</td>\n      <td>4.5500</td>\n      <td>10.2397</td>\n      <td>1</td>\n    </tr>\n    <tr>\n      <th>...</th>\n      <td>...</td>\n      <td>...</td>\n      <td>...</td>\n      <td>...</td>\n      <td>...</td>\n      <td>...</td>\n      <td>...</td>\n    </tr>\n    <tr>\n      <th>200</th>\n      <td>413</td>\n      <td>002179.SZ</td>\n      <td>20230316</td>\n      <td>20221231</td>\n      <td>1.7249</td>\n      <td>9.7106</td>\n      <td>1</td>\n    </tr>\n    <tr>\n      <th>201</th>\n      <td>414</td>\n      <td>688535.SH</td>\n      <td>20230316</td>\n      <td>20221231</td>\n      <td>0.6800</td>\n      <td>5.0106</td>\n      <td>1</td>\n    </tr>\n    <tr>\n      <th>202</th>\n      <td>419</td>\n      <td>301203.SZ</td>\n      <td>20230316</td>\n      <td>20221231</td>\n      <td>2.4800</td>\n      <td>6.2738</td>\n      <td>1</td>\n    </tr>\n    <tr>\n      <th>203</th>\n      <td>709</td>\n      <td>603291.SH</td>\n      <td>20230216</td>\n      <td>20221231</td>\n      <td>0.3400</td>\n      <td>3.0375</td>\n      <td>1</td>\n    </tr>\n    <tr>\n      <th>204</th>\n      <td>819</td>\n      <td>000063.SZ</td>\n      <td>20230311</td>\n      <td>20221231</td>\n      <td>1.7100</td>\n      <td>25.9610</td>\n      <td>1</td>\n    </tr>\n  </tbody>\n</table>\n<p>205 rows × 7 columns</p>\n</div>"
     },
     "execution_count": 74,
     "metadata": {},
     "output_type": "execute_result"
    }
   ],
   "source": [
    "# 获取tusahre财务指标数据，可指定数据品种、证券范围以及数据获取时间\n",
    "def get_fin_indicators(date, period, indicators, security=[], market_sign='A'):\n",
    "    '''\n",
    "    :param security: security list\n",
    "    :param date: yyyymmdd\n",
    "    :param period: yyyymmdd\n",
    "    :param indicators: list\n",
    "    :return: dataframe\n",
    "    '''\n",
    "\n",
    "    fields = ['ts_code', 'ann_date', 'end_date', 'update_flag']\n",
    "    fields.extend(indicators)\n",
    "    revenue_ps_df = pro.fina_indicator_vip(period=period, fields=fields)\n",
    "    revenue_ps_df.dropna(inplace=True)\n",
    "    # 查看是否指定了证券区间\n",
    "    if len(security) > 0:\n",
    "        revenue_ps_df = revenue_ps_df.loc[revenue_ps_df['ts_code'].isin(security)]\n",
    "    if market_sign == 'A':\n",
    "        revenue_ps_df = revenue_ps_df[revenue_ps_df['ts_code'].str.startswith(('0','3','6'))]\n",
    "    revenue_ps_df = revenue_ps_df[revenue_ps_df['ann_date'] <= date]\n",
    "    revenue_ps_df = revenue_ps_df.reset_index()\n",
    "    revenue_ps_df.drop('index', axis=1)\n",
    "    return revenue_ps_df\n",
    "\n",
    "\n",
    "get_fin_indicators(date='20230316', period='20221231', indicators=['eps', 'revenue_ps'])"
   ],
   "metadata": {
    "collapsed": false
   }
  },
  {
   "cell_type": "code",
   "execution_count": 68,
   "outputs": [
    {
     "name": "stdout",
     "output_type": "stream",
     "text": [
      "        ts_code  symbol     name  area industry market list_date\n",
      "0     000001.SZ  000001     平安银行    深圳       银行     主板  19910403\n",
      "1     000002.SZ  000002      万科A    深圳     全国地产     主板  19910129\n",
      "2     000004.SZ  000004     ST国华    深圳     软件服务     主板  19910114\n",
      "3     000005.SZ  000005     ST星源    深圳     环境保护     主板  19901210\n",
      "4     000006.SZ  000006     深振业A    深圳     区域地产     主板  19920427\n",
      "...         ...     ...      ...   ...      ...    ...       ...\n",
      "5121  873223.BJ  873223     荣亿精密  None     None    北交所  20220609\n",
      "5122  873305.BJ  873305     九菱科技  None     None    北交所  20221221\n",
      "5123  873339.BJ  873339     恒太照明  None     None    北交所  20221117\n",
      "5124  873527.BJ  873527      夜光明  None     None    北交所  20221027\n",
      "5125  689009.SH  689009  九号公司-WD    北京      摩托车    CDR  20201029\n",
      "\n",
      "[5126 rows x 7 columns]\n"
     ]
    }
   ],
   "source": [
    "\n",
    "\n",
    "# 拉取数据\n",
    "df = pro.stock_basic(**{\n",
    "    \"ts_code\": \"\",\n",
    "    \"name\": \"\",\n",
    "    \"exchange\": \"\",\n",
    "    \"market\": \"\",\n",
    "    \"is_hs\": \"\",\n",
    "    \"list_status\": \"\",\n",
    "    \"limit\": \"\",\n",
    "    \"offset\": \"\"\n",
    "}, fields=[\n",
    "    \"ts_code\",\n",
    "    \"symbol\",\n",
    "    \"name\",\n",
    "    \"area\",\n",
    "    \"industry\",\n",
    "    \"market\",\n",
    "    \"list_date\"\n",
    "])\n",
    "print(df)\n",
    "\n"
   ],
   "metadata": {
    "collapsed": false
   }
  },
  {
   "cell_type": "code",
   "execution_count": 2,
   "outputs": [
    {
     "name": "stdout",
     "output_type": "stream",
     "text": [
      "D:\\program\\PyCharm 2022.3.3\\jbr\\bin\n"
     ]
    }
   ],
   "source": [],
   "metadata": {
    "collapsed": false
   }
  },
  {
   "cell_type": "code",
   "execution_count": 62,
   "outputs": [],
   "source": [
    "\n",
    "from datetime import datetime\n",
    "\n",
    "\n",
    "def get_dates(n_years):\n",
    "    today = datetime.today()\n",
    "\n",
    "    dates = []\n",
    "    for i in range(0, n_years + 2):\n",
    "        year = today.year - i\n",
    "        dates.append(datetime(year, 3, 31).strftime('%Y%m%d'))\n",
    "        dates.append(datetime(year, 6, 30).strftime('%Y%m%d'))\n",
    "        dates.append(datetime(year, 9, 30).strftime('%Y%m%d'))\n",
    "        dates.append(datetime(year, 12, 31).strftime('%Y%m%d'))\n",
    "    dates.sort()\n",
    "    dates = [x for x in dates if x < today.strftime('%Y%m%d')][n_years * 4 * (-1):]\n",
    "    return dates\n",
    "\n",
    "\n",
    "period_list = get_dates(n_years=5)"
   ],
   "metadata": {
    "collapsed": false
   }
  },
  {
   "cell_type": "code",
   "execution_count": 64,
   "outputs": [
    {
     "data": {
      "text/plain": "20"
     },
     "execution_count": 64,
     "metadata": {},
     "output_type": "execute_result"
    }
   ],
   "source": [
    "len(period_list)"
   ],
   "metadata": {
    "collapsed": false
   }
  },
  {
   "cell_type": "code",
   "execution_count": 64,
   "outputs": [],
   "source": [],
   "metadata": {
    "collapsed": false
   }
  },
  {
   "cell_type": "code",
   "execution_count": 65,
   "outputs": [
    {
     "data": {
      "text/plain": "      index    ts_code  ann_date  end_date     eps  revenue_ps\n0         1  000563.SZ  20180428  20180331  0.0396      0.0876\n1         2  000022.SZ  20180427  20180331  0.2270      0.9550\n2         5  600087.SH  20180424  20180331  0.0179      0.1680\n3         6  000043.SZ  20180428  20180331  0.1013      2.3005\n4         7  300571.SZ  20180426  20180331  0.6000      2.9230\n...     ...        ...       ...       ...     ...         ...\n3785   3956  832802.BJ  20180428  20180331  0.1100      0.6316\n3786   3957  832149.BJ  20180425  20180331  0.0040      0.7147\n3787   3958  834770.BJ  20180428  20180331  0.1400      1.2357\n3788   3959  830809.BJ  20180427  20180331  0.1100      0.6671\n3789   3960  301281.SZ  20180427  20180331  0.1000      0.9495\n\n[3790 rows x 6 columns]",
      "text/html": "<div>\n<style scoped>\n    .dataframe tbody tr th:only-of-type {\n        vertical-align: middle;\n    }\n\n    .dataframe tbody tr th {\n        vertical-align: top;\n    }\n\n    .dataframe thead th {\n        text-align: right;\n    }\n</style>\n<table border=\"1\" class=\"dataframe\">\n  <thead>\n    <tr style=\"text-align: right;\">\n      <th></th>\n      <th>index</th>\n      <th>ts_code</th>\n      <th>ann_date</th>\n      <th>end_date</th>\n      <th>eps</th>\n      <th>revenue_ps</th>\n    </tr>\n  </thead>\n  <tbody>\n    <tr>\n      <th>0</th>\n      <td>1</td>\n      <td>000563.SZ</td>\n      <td>20180428</td>\n      <td>20180331</td>\n      <td>0.0396</td>\n      <td>0.0876</td>\n    </tr>\n    <tr>\n      <th>1</th>\n      <td>2</td>\n      <td>000022.SZ</td>\n      <td>20180427</td>\n      <td>20180331</td>\n      <td>0.2270</td>\n      <td>0.9550</td>\n    </tr>\n    <tr>\n      <th>2</th>\n      <td>5</td>\n      <td>600087.SH</td>\n      <td>20180424</td>\n      <td>20180331</td>\n      <td>0.0179</td>\n      <td>0.1680</td>\n    </tr>\n    <tr>\n      <th>3</th>\n      <td>6</td>\n      <td>000043.SZ</td>\n      <td>20180428</td>\n      <td>20180331</td>\n      <td>0.1013</td>\n      <td>2.3005</td>\n    </tr>\n    <tr>\n      <th>4</th>\n      <td>7</td>\n      <td>300571.SZ</td>\n      <td>20180426</td>\n      <td>20180331</td>\n      <td>0.6000</td>\n      <td>2.9230</td>\n    </tr>\n    <tr>\n      <th>...</th>\n      <td>...</td>\n      <td>...</td>\n      <td>...</td>\n      <td>...</td>\n      <td>...</td>\n      <td>...</td>\n    </tr>\n    <tr>\n      <th>3785</th>\n      <td>3956</td>\n      <td>832802.BJ</td>\n      <td>20180428</td>\n      <td>20180331</td>\n      <td>0.1100</td>\n      <td>0.6316</td>\n    </tr>\n    <tr>\n      <th>3786</th>\n      <td>3957</td>\n      <td>832149.BJ</td>\n      <td>20180425</td>\n      <td>20180331</td>\n      <td>0.0040</td>\n      <td>0.7147</td>\n    </tr>\n    <tr>\n      <th>3787</th>\n      <td>3958</td>\n      <td>834770.BJ</td>\n      <td>20180428</td>\n      <td>20180331</td>\n      <td>0.1400</td>\n      <td>1.2357</td>\n    </tr>\n    <tr>\n      <th>3788</th>\n      <td>3959</td>\n      <td>830809.BJ</td>\n      <td>20180427</td>\n      <td>20180331</td>\n      <td>0.1100</td>\n      <td>0.6671</td>\n    </tr>\n    <tr>\n      <th>3789</th>\n      <td>3960</td>\n      <td>301281.SZ</td>\n      <td>20180427</td>\n      <td>20180331</td>\n      <td>0.1000</td>\n      <td>0.9495</td>\n    </tr>\n  </tbody>\n</table>\n<p>3790 rows × 6 columns</p>\n</div>"
     },
     "execution_count": 65,
     "metadata": {},
     "output_type": "execute_result"
    }
   ],
   "source": [
    "# 根据报告期列表获取单季数据,这里指单季营业收入同比增速\n",
    "date = datetime.today().strftime('%Y%M%D')\n",
    "get_fin_indicators(date=date, period=period_list[0], indicators=['eps', 'revenue_ps'])"
   ],
   "metadata": {
    "collapsed": false
   }
  },
  {
   "cell_type": "code",
   "execution_count": null,
   "outputs": [],
   "source": [],
   "metadata": {
    "collapsed": false
   }
  },
  {
   "cell_type": "code",
   "execution_count": null,
   "outputs": [],
   "source": [],
   "metadata": {
    "collapsed": false
   }
  }
 ],
 "metadata": {
  "kernelspec": {
   "display_name": "Python 3",
   "language": "python",
   "name": "python3"
  },
  "language_info": {
   "codemirror_mode": {
    "name": "ipython",
    "version": 2
   },
   "file_extension": ".py",
   "mimetype": "text/x-python",
   "name": "python",
   "nbconvert_exporter": "python",
   "pygments_lexer": "ipython2",
   "version": "2.7.6"
  }
 },
 "nbformat": 4,
 "nbformat_minor": 0
}
