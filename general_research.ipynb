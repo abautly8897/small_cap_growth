{
 "cells": [
  {
   "cell_type": "code",
   "execution_count": 1,
   "outputs": [
    {
     "name": "stdout",
     "output_type": "stream",
     "text": [
      "['J:\\\\Quant\\\\JQ\\\\scap_growth', 'J:\\\\Quant\\\\JQ\\\\scap_growth', 'D:\\\\program\\\\python310.zip', 'D:\\\\program\\\\DLLs', 'D:\\\\program\\\\lib', 'D:\\\\program', 'J:\\\\Quant\\\\junhe_quant\\\\scap_growth', '', 'J:\\\\Quant\\\\junhe_quant\\\\scap_growth\\\\lib\\\\site-packages', 'J:\\\\Quant\\\\junhe_quant\\\\scap_growth\\\\lib\\\\site-packages\\\\win32', 'J:\\\\Quant\\\\junhe_quant\\\\scap_growth\\\\lib\\\\site-packages\\\\win32\\\\lib', 'J:\\\\Quant\\\\junhe_quant\\\\scap_growth\\\\lib\\\\site-packages\\\\Pythonwin']\n"
     ]
    }
   ],
   "source": [
    "import sys\n",
    "print(sys.path)"
   ],
   "metadata": {
    "collapsed": false
   }
  },
  {
   "cell_type": "code",
   "execution_count": null,
   "outputs": [],
   "source": [],
   "metadata": {
    "collapsed": false
   }
  }
 ],
 "metadata": {
  "kernelspec": {
   "display_name": "Python 3",
   "language": "python",
   "name": "python3"
  },
  "language_info": {
   "codemirror_mode": {
    "name": "ipython",
    "version": 2
   },
   "file_extension": ".py",
   "mimetype": "text/x-python",
   "name": "python",
   "nbconvert_exporter": "python",
   "pygments_lexer": "ipython2",
   "version": "2.7.6"
  }
 },
 "nbformat": 4,
 "nbformat_minor": 0
}
