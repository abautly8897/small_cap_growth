{
 "cells": [
  {
   "cell_type": "markdown",
   "source": [
    "# 5年营业收入增长率 sales_growth\n",
    "过去5个财年的 每股营业收入增长 除以 年均每股营业收入\n",
    "\n",
    "注意：对于基本面数据，\n",
    "每年11-第二年4月使用前一年0930的TTM数据，既三季报+前一年四季度\n",
    "5-8月使用1季度0331的TTM数据，\n",
    "9-10月使用中报0630的TTM数据，\n",
    "11-12月使用当年三季报0930的TTM数据"
   ],
   "metadata": {
    "collapsed": false
   }
  },
  {
   "cell_type": "code",
   "execution_count": 1,
   "outputs": [],
   "source": [
    "import datetime\n",
    "\n",
    "import pandas as pd\n",
    "# 获取tushare每股营业收入数据\n",
    "import tushare as ts\n",
    "\n",
    "pro = ts.pro_api('e9628663b45f87ea92e39aaa7127063830ebd5090bc1e8943138b84f')\n",
    "\n"
   ],
   "metadata": {
    "collapsed": false,
    "ExecuteTime": {
     "start_time": "2023-04-03T17:22:19.556038Z",
     "end_time": "2023-04-03T17:22:24.013038Z"
    }
   }
  },
  {
   "cell_type": "code",
   "execution_count": 6,
   "outputs": [
    {
     "data": {
      "text/plain": "'20230403'"
     },
     "execution_count": 6,
     "metadata": {},
     "output_type": "execute_result"
    }
   ],
   "source": [
    "datetime.datetime.today().strftime('%Y%m%d')"
   ],
   "metadata": {
    "collapsed": false,
    "ExecuteTime": {
     "start_time": "2023-04-03T17:23:48.591736Z",
     "end_time": "2023-04-03T17:23:48.626745Z"
    }
   }
  },
  {
   "cell_type": "code",
   "execution_count": 3,
   "outputs": [
    {
     "data": {
      "text/plain": "        ts_code  ann_date  end_date     eps  dt_eps  total_revenue_ps  \\\n0     A22231.SZ  20230118  20221231  4.1400  4.0500           27.3891   \n1     A22460.SZ  20230118  20221231     NaN     NaN               NaN   \n2     A22278.SZ  20230130  20221231     NaN     NaN               NaN   \n3     A22137.BJ  20230201  20221231  0.4500  0.4500           13.0174   \n4     A21410.SZ  20230310  20221231  0.2700  0.2700            2.6092   \n...         ...       ...       ...     ...     ...               ...   \n1736  300316.SZ  20230403  20221231  2.2600  2.2600            8.1288   \n1737  301175.SZ  20230403  20221231  0.1700  0.1700            1.0849   \n1738  605167.SH  20230403  20221231  0.3100  0.3100            3.8326   \n1739  688410.SH  20230403  20221231  0.5458  0.5458            2.6395   \n1740  A22677.SZ  20230331  20221231  2.3000  2.3000           19.7630   \n\n      revenue_ps  capital_rese_ps  surplus_rese_ps  undist_profit_ps  ...  \\\n0        27.3891           1.4895           0.5000            6.4809  ...   \n1            NaN              NaN              NaN               NaN  ...   \n2            NaN              NaN              NaN               NaN  ...   \n3        13.0174           1.6935           0.1906            0.8117  ...   \n4         2.6092           0.2330           0.0900            0.4380  ...   \n...          ...              ...              ...               ...  ...   \n1736      8.1288           2.0191           0.5866            4.6671  ...   \n1737      1.0849           0.7649           0.0234            0.3938  ...   \n1738      3.8326           0.9449           0.1039            1.2538  ...   \n1739      2.6395           9.2554           0.0919            0.1177  ...   \n1740     19.7630           3.6841           0.1116            2.4817  ...   \n\n       roe_yoy   bps_yoy  assets_yoy   eqt_yoy    tr_yoy    or_yoy  \\\n0      62.8621   74.3120     62.2231   74.3135   58.6078   58.6078   \n1      43.1659       NaN     45.6121   25.5637   91.0482   91.0482   \n2     -11.0430       NaN     30.7480   41.9701   21.4938   21.4938   \n3       4.2923    4.7087     -1.5606    4.7099   15.8528   15.8528   \n4      43.0436   17.3300      4.2451   17.7526   36.9964   36.9964   \n...        ...       ...         ...       ...       ...       ...   \n1736    8.3653   54.9378     71.0915   57.6168   78.4544   78.4544   \n1737  -37.1862   46.3876     42.3858   94.9694    5.3443    5.3443   \n1738   15.1807    8.7442     24.4590    8.7436  -13.2092  -13.2092   \n1739  -22.3375  193.7461    246.0290  291.6896   34.8549   34.8549   \n1740  321.5013   46.6685    166.6587   46.6682  129.8926  129.8926   \n\n      q_sales_yoy  q_op_qoq  equity_yoy  update_flag  \n0             NaN       NaN     74.3135            1  \n1             NaN       NaN     25.5637            1  \n2             NaN       NaN     41.9701            0  \n3         40.7736  477.0235      4.7099            1  \n4          3.2901   41.0361     17.7526            1  \n...           ...       ...         ...          ...  \n1736      61.2132    9.5864     57.6168            1  \n1737       0.0715  -36.4806     94.9694            1  \n1738      22.7419   82.4347      8.7436            1  \n1739      30.7263   28.4906    291.6896            1  \n1740          NaN       NaN     46.6682            1  \n\n[1741 rows x 109 columns]",
      "text/html": "<div>\n<style scoped>\n    .dataframe tbody tr th:only-of-type {\n        vertical-align: middle;\n    }\n\n    .dataframe tbody tr th {\n        vertical-align: top;\n    }\n\n    .dataframe thead th {\n        text-align: right;\n    }\n</style>\n<table border=\"1\" class=\"dataframe\">\n  <thead>\n    <tr style=\"text-align: right;\">\n      <th></th>\n      <th>ts_code</th>\n      <th>ann_date</th>\n      <th>end_date</th>\n      <th>eps</th>\n      <th>dt_eps</th>\n      <th>total_revenue_ps</th>\n      <th>revenue_ps</th>\n      <th>capital_rese_ps</th>\n      <th>surplus_rese_ps</th>\n      <th>undist_profit_ps</th>\n      <th>...</th>\n      <th>roe_yoy</th>\n      <th>bps_yoy</th>\n      <th>assets_yoy</th>\n      <th>eqt_yoy</th>\n      <th>tr_yoy</th>\n      <th>or_yoy</th>\n      <th>q_sales_yoy</th>\n      <th>q_op_qoq</th>\n      <th>equity_yoy</th>\n      <th>update_flag</th>\n    </tr>\n  </thead>\n  <tbody>\n    <tr>\n      <th>0</th>\n      <td>A22231.SZ</td>\n      <td>20230118</td>\n      <td>20221231</td>\n      <td>4.1400</td>\n      <td>4.0500</td>\n      <td>27.3891</td>\n      <td>27.3891</td>\n      <td>1.4895</td>\n      <td>0.5000</td>\n      <td>6.4809</td>\n      <td>...</td>\n      <td>62.8621</td>\n      <td>74.3120</td>\n      <td>62.2231</td>\n      <td>74.3135</td>\n      <td>58.6078</td>\n      <td>58.6078</td>\n      <td>NaN</td>\n      <td>NaN</td>\n      <td>74.3135</td>\n      <td>1</td>\n    </tr>\n    <tr>\n      <th>1</th>\n      <td>A22460.SZ</td>\n      <td>20230118</td>\n      <td>20221231</td>\n      <td>NaN</td>\n      <td>NaN</td>\n      <td>NaN</td>\n      <td>NaN</td>\n      <td>NaN</td>\n      <td>NaN</td>\n      <td>NaN</td>\n      <td>...</td>\n      <td>43.1659</td>\n      <td>NaN</td>\n      <td>45.6121</td>\n      <td>25.5637</td>\n      <td>91.0482</td>\n      <td>91.0482</td>\n      <td>NaN</td>\n      <td>NaN</td>\n      <td>25.5637</td>\n      <td>1</td>\n    </tr>\n    <tr>\n      <th>2</th>\n      <td>A22278.SZ</td>\n      <td>20230130</td>\n      <td>20221231</td>\n      <td>NaN</td>\n      <td>NaN</td>\n      <td>NaN</td>\n      <td>NaN</td>\n      <td>NaN</td>\n      <td>NaN</td>\n      <td>NaN</td>\n      <td>...</td>\n      <td>-11.0430</td>\n      <td>NaN</td>\n      <td>30.7480</td>\n      <td>41.9701</td>\n      <td>21.4938</td>\n      <td>21.4938</td>\n      <td>NaN</td>\n      <td>NaN</td>\n      <td>41.9701</td>\n      <td>0</td>\n    </tr>\n    <tr>\n      <th>3</th>\n      <td>A22137.BJ</td>\n      <td>20230201</td>\n      <td>20221231</td>\n      <td>0.4500</td>\n      <td>0.4500</td>\n      <td>13.0174</td>\n      <td>13.0174</td>\n      <td>1.6935</td>\n      <td>0.1906</td>\n      <td>0.8117</td>\n      <td>...</td>\n      <td>4.2923</td>\n      <td>4.7087</td>\n      <td>-1.5606</td>\n      <td>4.7099</td>\n      <td>15.8528</td>\n      <td>15.8528</td>\n      <td>40.7736</td>\n      <td>477.0235</td>\n      <td>4.7099</td>\n      <td>1</td>\n    </tr>\n    <tr>\n      <th>4</th>\n      <td>A21410.SZ</td>\n      <td>20230310</td>\n      <td>20221231</td>\n      <td>0.2700</td>\n      <td>0.2700</td>\n      <td>2.6092</td>\n      <td>2.6092</td>\n      <td>0.2330</td>\n      <td>0.0900</td>\n      <td>0.4380</td>\n      <td>...</td>\n      <td>43.0436</td>\n      <td>17.3300</td>\n      <td>4.2451</td>\n      <td>17.7526</td>\n      <td>36.9964</td>\n      <td>36.9964</td>\n      <td>3.2901</td>\n      <td>41.0361</td>\n      <td>17.7526</td>\n      <td>1</td>\n    </tr>\n    <tr>\n      <th>...</th>\n      <td>...</td>\n      <td>...</td>\n      <td>...</td>\n      <td>...</td>\n      <td>...</td>\n      <td>...</td>\n      <td>...</td>\n      <td>...</td>\n      <td>...</td>\n      <td>...</td>\n      <td>...</td>\n      <td>...</td>\n      <td>...</td>\n      <td>...</td>\n      <td>...</td>\n      <td>...</td>\n      <td>...</td>\n      <td>...</td>\n      <td>...</td>\n      <td>...</td>\n      <td>...</td>\n    </tr>\n    <tr>\n      <th>1736</th>\n      <td>300316.SZ</td>\n      <td>20230403</td>\n      <td>20221231</td>\n      <td>2.2600</td>\n      <td>2.2600</td>\n      <td>8.1288</td>\n      <td>8.1288</td>\n      <td>2.0191</td>\n      <td>0.5866</td>\n      <td>4.6671</td>\n      <td>...</td>\n      <td>8.3653</td>\n      <td>54.9378</td>\n      <td>71.0915</td>\n      <td>57.6168</td>\n      <td>78.4544</td>\n      <td>78.4544</td>\n      <td>61.2132</td>\n      <td>9.5864</td>\n      <td>57.6168</td>\n      <td>1</td>\n    </tr>\n    <tr>\n      <th>1737</th>\n      <td>301175.SZ</td>\n      <td>20230403</td>\n      <td>20221231</td>\n      <td>0.1700</td>\n      <td>0.1700</td>\n      <td>1.0849</td>\n      <td>1.0849</td>\n      <td>0.7649</td>\n      <td>0.0234</td>\n      <td>0.3938</td>\n      <td>...</td>\n      <td>-37.1862</td>\n      <td>46.3876</td>\n      <td>42.3858</td>\n      <td>94.9694</td>\n      <td>5.3443</td>\n      <td>5.3443</td>\n      <td>0.0715</td>\n      <td>-36.4806</td>\n      <td>94.9694</td>\n      <td>1</td>\n    </tr>\n    <tr>\n      <th>1738</th>\n      <td>605167.SH</td>\n      <td>20230403</td>\n      <td>20221231</td>\n      <td>0.3100</td>\n      <td>0.3100</td>\n      <td>3.8326</td>\n      <td>3.8326</td>\n      <td>0.9449</td>\n      <td>0.1039</td>\n      <td>1.2538</td>\n      <td>...</td>\n      <td>15.1807</td>\n      <td>8.7442</td>\n      <td>24.4590</td>\n      <td>8.7436</td>\n      <td>-13.2092</td>\n      <td>-13.2092</td>\n      <td>22.7419</td>\n      <td>82.4347</td>\n      <td>8.7436</td>\n      <td>1</td>\n    </tr>\n    <tr>\n      <th>1739</th>\n      <td>688410.SH</td>\n      <td>20230403</td>\n      <td>20221231</td>\n      <td>0.5458</td>\n      <td>0.5458</td>\n      <td>2.6395</td>\n      <td>2.6395</td>\n      <td>9.2554</td>\n      <td>0.0919</td>\n      <td>0.1177</td>\n      <td>...</td>\n      <td>-22.3375</td>\n      <td>193.7461</td>\n      <td>246.0290</td>\n      <td>291.6896</td>\n      <td>34.8549</td>\n      <td>34.8549</td>\n      <td>30.7263</td>\n      <td>28.4906</td>\n      <td>291.6896</td>\n      <td>1</td>\n    </tr>\n    <tr>\n      <th>1740</th>\n      <td>A22677.SZ</td>\n      <td>20230331</td>\n      <td>20221231</td>\n      <td>2.3000</td>\n      <td>2.3000</td>\n      <td>19.7630</td>\n      <td>19.7630</td>\n      <td>3.6841</td>\n      <td>0.1116</td>\n      <td>2.4817</td>\n      <td>...</td>\n      <td>321.5013</td>\n      <td>46.6685</td>\n      <td>166.6587</td>\n      <td>46.6682</td>\n      <td>129.8926</td>\n      <td>129.8926</td>\n      <td>NaN</td>\n      <td>NaN</td>\n      <td>46.6682</td>\n      <td>1</td>\n    </tr>\n  </tbody>\n</table>\n<p>1741 rows × 109 columns</p>\n</div>"
     },
     "execution_count": 3,
     "metadata": {},
     "output_type": "execute_result"
    }
   ],
   "source": [
    "df = pro.fina_indicator_vip(period='20221231')\n",
    "df"
   ],
   "metadata": {
    "collapsed": false,
    "ExecuteTime": {
     "start_time": "2023-04-03T16:09:23.997388Z",
     "end_time": "2023-04-03T16:09:27.498549Z"
    }
   }
  },
  {
   "cell_type": "code",
   "execution_count": 10,
   "outputs": [],
   "source": [
    "# 获取tusahre财务指标数据，可指定数据品种、证券范围以及数据获取时间\n",
    "def get_fin_indicators(period, indicators, security=[], date=datetime.datetime.today().strftime('%Y%m%d'),\n",
    "                       market_sign='A'):\n",
    "    '''\n",
    "    :param security: security list\n",
    "    :param date: yyyymmdd\n",
    "    :param period: yyyymmdd\n",
    "    :param indicators: list\n",
    "    :return: dataframe\n",
    "    '''\n",
    "\n",
    "    fields = ['ts_code', 'ann_date', 'end_date', 'update_flag']\n",
    "    fields.extend(indicators)\n",
    "    revenue_ps_df = pro.fina_indicator_vip(period=period, fields=fields)\n",
    "    revenue_ps_df.dropna(inplace=True)\n",
    "    # 查看是否指定了证券区间\n",
    "    if len(security) > 0:\n",
    "        revenue_ps_df = revenue_ps_df.loc[revenue_ps_df['ts_code'].isin(security)]\n",
    "    if market_sign == 'A':\n",
    "        revenue_ps_df = revenue_ps_df[revenue_ps_df['ts_code'].str.startswith(('0', '3', '6'))]\n",
    "    revenue_ps_df = revenue_ps_df[revenue_ps_df['ann_date'] <= date]\n",
    "    revenue_ps_df = revenue_ps_df.reset_index()\n",
    "    revenue_ps_df.drop('index', axis=1)\n",
    "    return revenue_ps_df\n",
    "\n",
    "# get_fin_indicators(date='20230316', period='20221231', indicators=['eps', 'revenue_ps'])"
   ],
   "metadata": {
    "collapsed": false,
    "ExecuteTime": {
     "start_time": "2023-04-03T19:31:27.490909Z",
     "end_time": "2023-04-03T19:31:27.506914Z"
    }
   }
  },
  {
   "cell_type": "code",
   "execution_count": 11,
   "outputs": [
    {
     "data": {
      "text/plain": "      index    ts_code  ann_date  end_date     eps  revenue_ps update_flag\n0         0  600873.SH  20220715  20220630  0.8300      4.5890           0\n1         1  600873.SH  20220715  20220630  0.8300      4.5890           1\n2         2  300463.SZ  20220716  20220630  0.6728      2.9092           0\n3         4  002107.SZ  20220716  20220630  0.1000      0.8725           0\n4         6  300463.SZ  20220716  20220630  0.6728      2.9092           1\n...     ...        ...       ...       ...     ...         ...         ...\n5979   7863  688539.SH  20230329  20220630  0.3900      1.3218           1\n5980   7864  688146.SH  20230331  20220630  0.4600      2.1227           1\n5981   7866  688478.SH  20230331  20220630  0.0262      0.6269           1\n5982   7870  301360.SZ  20230331  20220630  0.3100      2.6190           1\n5983   7871  301307.SZ  20230331  20220630  0.5100      9.0438           1\n\n[5984 rows x 7 columns]",
      "text/html": "<div>\n<style scoped>\n    .dataframe tbody tr th:only-of-type {\n        vertical-align: middle;\n    }\n\n    .dataframe tbody tr th {\n        vertical-align: top;\n    }\n\n    .dataframe thead th {\n        text-align: right;\n    }\n</style>\n<table border=\"1\" class=\"dataframe\">\n  <thead>\n    <tr style=\"text-align: right;\">\n      <th></th>\n      <th>index</th>\n      <th>ts_code</th>\n      <th>ann_date</th>\n      <th>end_date</th>\n      <th>eps</th>\n      <th>revenue_ps</th>\n      <th>update_flag</th>\n    </tr>\n  </thead>\n  <tbody>\n    <tr>\n      <th>0</th>\n      <td>0</td>\n      <td>600873.SH</td>\n      <td>20220715</td>\n      <td>20220630</td>\n      <td>0.8300</td>\n      <td>4.5890</td>\n      <td>0</td>\n    </tr>\n    <tr>\n      <th>1</th>\n      <td>1</td>\n      <td>600873.SH</td>\n      <td>20220715</td>\n      <td>20220630</td>\n      <td>0.8300</td>\n      <td>4.5890</td>\n      <td>1</td>\n    </tr>\n    <tr>\n      <th>2</th>\n      <td>2</td>\n      <td>300463.SZ</td>\n      <td>20220716</td>\n      <td>20220630</td>\n      <td>0.6728</td>\n      <td>2.9092</td>\n      <td>0</td>\n    </tr>\n    <tr>\n      <th>3</th>\n      <td>4</td>\n      <td>002107.SZ</td>\n      <td>20220716</td>\n      <td>20220630</td>\n      <td>0.1000</td>\n      <td>0.8725</td>\n      <td>0</td>\n    </tr>\n    <tr>\n      <th>4</th>\n      <td>6</td>\n      <td>300463.SZ</td>\n      <td>20220716</td>\n      <td>20220630</td>\n      <td>0.6728</td>\n      <td>2.9092</td>\n      <td>1</td>\n    </tr>\n    <tr>\n      <th>...</th>\n      <td>...</td>\n      <td>...</td>\n      <td>...</td>\n      <td>...</td>\n      <td>...</td>\n      <td>...</td>\n      <td>...</td>\n    </tr>\n    <tr>\n      <th>5979</th>\n      <td>7863</td>\n      <td>688539.SH</td>\n      <td>20230329</td>\n      <td>20220630</td>\n      <td>0.3900</td>\n      <td>1.3218</td>\n      <td>1</td>\n    </tr>\n    <tr>\n      <th>5980</th>\n      <td>7864</td>\n      <td>688146.SH</td>\n      <td>20230331</td>\n      <td>20220630</td>\n      <td>0.4600</td>\n      <td>2.1227</td>\n      <td>1</td>\n    </tr>\n    <tr>\n      <th>5981</th>\n      <td>7866</td>\n      <td>688478.SH</td>\n      <td>20230331</td>\n      <td>20220630</td>\n      <td>0.0262</td>\n      <td>0.6269</td>\n      <td>1</td>\n    </tr>\n    <tr>\n      <th>5982</th>\n      <td>7870</td>\n      <td>301360.SZ</td>\n      <td>20230331</td>\n      <td>20220630</td>\n      <td>0.3100</td>\n      <td>2.6190</td>\n      <td>1</td>\n    </tr>\n    <tr>\n      <th>5983</th>\n      <td>7871</td>\n      <td>301307.SZ</td>\n      <td>20230331</td>\n      <td>20220630</td>\n      <td>0.5100</td>\n      <td>9.0438</td>\n      <td>1</td>\n    </tr>\n  </tbody>\n</table>\n<p>5984 rows × 7 columns</p>\n</div>"
     },
     "execution_count": 11,
     "metadata": {},
     "output_type": "execute_result"
    }
   ],
   "source": [
    "# 生成revenue-ps的TTM数据\n",
    "period = '20221231'\n",
    "indicators = ['eps', 'revenue_ps']\n",
    "get_fin_indicators(period, indicators)"
   ],
   "metadata": {
    "collapsed": false,
    "ExecuteTime": {
     "start_time": "2023-04-03T19:31:27.849990Z",
     "end_time": "2023-04-03T19:31:29.206297Z"
    }
   }
  },
  {
   "cell_type": "code",
   "execution_count": 45,
   "outputs": [],
   "source": [
    "# 生成revenue-ps的TTM数据\n",
    "indicators = ['eps', 'revenue_ps']\n",
    "period = '20220930'\n",
    "period_list = ['20220930','20211231','20210930']\n",
    "df = get_fin_indicators(period, indicators)\n",
    "selected_sec_ls = df.ts_code.tolist()\n",
    "for period in period_list[1:]:\n",
    "    new_df = get_fin_indicators(period,indicators)\n",
    "    selected_sec_ls = list(set(selected_sec_ls)&set(new_df.ts_code.tolist()))\n",
    "    df = pd.concat([df,new_df],ignore_index=True)\n",
    "df = df.loc[df['ts_code'].isin(selected_sec_ls)]\n",
    "df = df.loc[df['ts_code'].isin(selected_sec_ls)]"
   ],
   "metadata": {
    "collapsed": false,
    "ExecuteTime": {
     "start_time": "2023-04-03T19:59:06.360051Z",
     "end_time": "2023-04-03T19:59:10.391956Z"
    }
   }
  },
  {
   "cell_type": "code",
   "execution_count": 43,
   "outputs": [],
   "source": [
    "df = df.reset_index()"
   ],
   "metadata": {
    "collapsed": false,
    "ExecuteTime": {
     "start_time": "2023-04-03T19:58:59.397488Z",
     "end_time": "2023-04-03T19:58:59.423494Z"
    }
   }
  },
  {
   "cell_type": "code",
   "execution_count": 46,
   "outputs": [
    {
     "data": {
      "text/plain": "       index    ts_code  ann_date  end_date     eps  revenue_ps update_flag\n0          0  603185.SH  20221010  20220930  7.3700     44.7846           1\n1          1  600557.SH  20221010  20220930  0.4900      5.3464           1\n2          2  603300.SH  20221011  20220930  0.3500      1.8405           1\n3          3  603083.SH  20221011  20220930  0.2900     11.1014           1\n4          4  002772.SZ  20221012  20220930  0.3055      3.5462           1\n...      ...        ...       ...       ...     ...         ...         ...\n23450  10017  688525.SH  20221213  20210930  0.3200      5.2833           1\n23451  10041  001223.SZ  20221129  20210930  3.7300      8.4468           1\n23452  10052  301206.SZ  20220114  20210930  4.3600     12.9036           1\n23453  10065  600927.SH  20211109  20210930  0.6700     20.8916           1\n23454  10155  603281.SH  20230105  20210930  1.7800      7.9179           1\n\n[22562 rows x 7 columns]",
      "text/html": "<div>\n<style scoped>\n    .dataframe tbody tr th:only-of-type {\n        vertical-align: middle;\n    }\n\n    .dataframe tbody tr th {\n        vertical-align: top;\n    }\n\n    .dataframe thead th {\n        text-align: right;\n    }\n</style>\n<table border=\"1\" class=\"dataframe\">\n  <thead>\n    <tr style=\"text-align: right;\">\n      <th></th>\n      <th>index</th>\n      <th>ts_code</th>\n      <th>ann_date</th>\n      <th>end_date</th>\n      <th>eps</th>\n      <th>revenue_ps</th>\n      <th>update_flag</th>\n    </tr>\n  </thead>\n  <tbody>\n    <tr>\n      <th>0</th>\n      <td>0</td>\n      <td>603185.SH</td>\n      <td>20221010</td>\n      <td>20220930</td>\n      <td>7.3700</td>\n      <td>44.7846</td>\n      <td>1</td>\n    </tr>\n    <tr>\n      <th>1</th>\n      <td>1</td>\n      <td>600557.SH</td>\n      <td>20221010</td>\n      <td>20220930</td>\n      <td>0.4900</td>\n      <td>5.3464</td>\n      <td>1</td>\n    </tr>\n    <tr>\n      <th>2</th>\n      <td>2</td>\n      <td>603300.SH</td>\n      <td>20221011</td>\n      <td>20220930</td>\n      <td>0.3500</td>\n      <td>1.8405</td>\n      <td>1</td>\n    </tr>\n    <tr>\n      <th>3</th>\n      <td>3</td>\n      <td>603083.SH</td>\n      <td>20221011</td>\n      <td>20220930</td>\n      <td>0.2900</td>\n      <td>11.1014</td>\n      <td>1</td>\n    </tr>\n    <tr>\n      <th>4</th>\n      <td>4</td>\n      <td>002772.SZ</td>\n      <td>20221012</td>\n      <td>20220930</td>\n      <td>0.3055</td>\n      <td>3.5462</td>\n      <td>1</td>\n    </tr>\n    <tr>\n      <th>...</th>\n      <td>...</td>\n      <td>...</td>\n      <td>...</td>\n      <td>...</td>\n      <td>...</td>\n      <td>...</td>\n      <td>...</td>\n    </tr>\n    <tr>\n      <th>23450</th>\n      <td>10017</td>\n      <td>688525.SH</td>\n      <td>20221213</td>\n      <td>20210930</td>\n      <td>0.3200</td>\n      <td>5.2833</td>\n      <td>1</td>\n    </tr>\n    <tr>\n      <th>23451</th>\n      <td>10041</td>\n      <td>001223.SZ</td>\n      <td>20221129</td>\n      <td>20210930</td>\n      <td>3.7300</td>\n      <td>8.4468</td>\n      <td>1</td>\n    </tr>\n    <tr>\n      <th>23452</th>\n      <td>10052</td>\n      <td>301206.SZ</td>\n      <td>20220114</td>\n      <td>20210930</td>\n      <td>4.3600</td>\n      <td>12.9036</td>\n      <td>1</td>\n    </tr>\n    <tr>\n      <th>23453</th>\n      <td>10065</td>\n      <td>600927.SH</td>\n      <td>20211109</td>\n      <td>20210930</td>\n      <td>0.6700</td>\n      <td>20.8916</td>\n      <td>1</td>\n    </tr>\n    <tr>\n      <th>23454</th>\n      <td>10155</td>\n      <td>603281.SH</td>\n      <td>20230105</td>\n      <td>20210930</td>\n      <td>1.7800</td>\n      <td>7.9179</td>\n      <td>1</td>\n    </tr>\n  </tbody>\n</table>\n<p>22562 rows × 7 columns</p>\n</div>"
     },
     "execution_count": 46,
     "metadata": {},
     "output_type": "execute_result"
    }
   ],
   "source": [
    "df"
   ],
   "metadata": {
    "collapsed": false,
    "ExecuteTime": {
     "start_time": "2023-04-03T19:59:10.895068Z",
     "end_time": "2023-04-03T19:59:10.922074Z"
    }
   }
  },
  {
   "cell_type": "code",
   "execution_count": 32,
   "outputs": [],
   "source": [
    "origin_sec_ls = df.ts_code.tolist()\n",
    "selected_sec_ls = []\n",
    "for sec in origin_sec_ls:\n",
    "    if origin_sec_ls.count(sec)==3:\n",
    "        selected_sec_ls.append(sec[:6])\n",
    "selected_sec_ls = list(set(selected_sec_ls))\n",
    "\n"
   ],
   "metadata": {
    "collapsed": false,
    "ExecuteTime": {
     "start_time": "2023-04-03T19:49:52.143810Z",
     "end_time": "2023-04-03T19:49:59.513465Z"
    }
   }
  },
  {
   "cell_type": "code",
   "execution_count": null,
   "outputs": [],
   "source": [],
   "metadata": {
    "collapsed": false
   }
  },
  {
   "cell_type": "code",
   "execution_count": 35,
   "outputs": [
    {
     "data": {
      "text/plain": "['600747',\n '688325',\n '301311',\n '301248',\n '301152',\n '688293',\n '688052',\n '600734',\n '301439',\n '300038',\n '688091',\n '600155',\n '600115',\n '301265',\n '301162',\n '002470',\n '001300',\n '301377',\n '301105',\n '688337',\n '600928',\n '688141',\n '688132',\n '301226',\n '601838',\n '301153',\n '001338',\n '688279',\n '301396',\n '601229',\n '301263',\n '001314',\n '603030',\n '301028',\n '001289',\n '603272',\n '688273',\n '301126',\n '600925',\n '300500',\n '001323',\n '600614',\n '688193',\n '301238',\n '600901',\n '688048',\n '001238',\n '301365',\n '601288',\n '688047',\n '002298',\n '000063',\n '300752',\n '000832',\n '001258',\n '601089',\n '000783',\n '688371',\n '688209',\n '301183',\n '688150',\n '601688',\n '688376',\n '603052',\n '301339',\n '603363',\n '688385',\n '300372',\n '688432',\n '001298',\n '002961',\n '688192',\n '600109',\n '603211',\n '000625',\n '600069',\n '301258',\n '603280',\n '000687',\n '002619',\n '688503',\n '600112',\n '301313',\n '300517',\n '688275',\n '600677',\n '603209',\n '601577',\n '603051',\n '600938',\n '301257',\n '301359',\n '002022',\n '688480',\n '600240',\n '688420',\n '688170',\n '001308',\n '603070',\n '301280',\n '600813',\n '301150',\n '300736',\n '600695',\n '002640',\n '688297',\n '001333',\n '688290',\n '688203',\n '688435',\n '301290',\n '001222',\n '301123',\n '600909',\n '301297',\n '688231',\n '002142',\n '301279',\n '688788',\n '001231',\n '001339',\n '688322',\n '688068',\n '301391',\n '001331',\n '301212',\n '300180',\n '001270',\n '002473',\n '301256',\n '688401',\n '301277',\n '688251',\n '301133',\n '300356',\n '688046',\n '301302',\n '301192',\n '688102',\n '001226',\n '301335',\n '301095',\n '688295',\n '301288',\n '000166',\n '301398',\n '688206',\n '001266',\n '300601',\n '301175',\n '603206',\n '688287',\n '601128',\n '001322',\n '002926',\n '301317',\n '603191',\n '301120',\n '001318',\n '301119',\n '301233',\n '301218',\n '601825',\n '301301',\n '002618',\n '002076',\n '688348',\n '301286',\n '601318',\n '688073',\n '688173',\n '301388',\n '600287',\n '301109',\n '688559',\n '301148',\n '603237',\n '001259',\n '688175',\n '300809',\n '600369',\n '000750',\n '600015',\n '001255',\n '301151',\n '301380',\n '600806',\n '300059',\n '301316',\n '688176',\n '600074',\n '001256',\n '600896',\n '688711',\n '601336',\n '600248',\n '688153',\n '688486',\n '002260',\n '001223',\n '001337',\n '688683',\n '301321',\n '002673',\n '688525',\n '601333',\n '001336',\n '300253',\n '301330',\n '002169']"
     },
     "execution_count": 35,
     "metadata": {},
     "output_type": "execute_result"
    }
   ],
   "source": [
    "selected_sec_ls"
   ],
   "metadata": {
    "collapsed": false,
    "ExecuteTime": {
     "start_time": "2023-04-03T19:51:45.038568Z",
     "end_time": "2023-04-03T19:51:45.065575Z"
    }
   }
  },
  {
   "cell_type": "code",
   "execution_count": null,
   "outputs": [],
   "source": [
    "target_df = pd.DataFrame(columns = df.columns.tolist())"
   ],
   "metadata": {
    "collapsed": false
   }
  },
  {
   "cell_type": "code",
   "execution_count": 163,
   "outputs": [],
   "source": [
    "\n",
    "from datetime import datetime\n",
    "\n",
    "\n",
    "# 生成报告期序列\n",
    "def get_report_periods_list(end_date=datetime.today(), n_years=5):\n",
    "    today = end_date\n",
    "    dates = []\n",
    "    for i in range(0, n_years + 2):\n",
    "        year = today.year - i\n",
    "        dates.append(datetime(year, 3, 31).strftime('%Y%m%d'))\n",
    "        dates.append(datetime(year, 6, 30).strftime('%Y%m%d'))\n",
    "        dates.append(datetime(year, 9, 30).strftime('%Y%m%d'))\n",
    "        dates.append(datetime(year, 12, 31).strftime('%Y%m%d'))\n",
    "    dates.sort()\n",
    "    dates = [x for x in dates if x < today.strftime('%Y%m%d')][n_years * 4 * (-1):]\n",
    "    return dates\n",
    "\n",
    "\n",
    "period_list = get_report_periods_list(end_date=datetime.today(), n_years=5)"
   ],
   "metadata": {
    "collapsed": false
   }
  },
  {
   "cell_type": "code",
   "execution_count": 164,
   "outputs": [
    {
     "data": {
      "text/plain": "20"
     },
     "execution_count": 164,
     "metadata": {},
     "output_type": "execute_result"
    }
   ],
   "source": [
    "len(period_list)"
   ],
   "metadata": {
    "collapsed": false
   }
  },
  {
   "cell_type": "code",
   "execution_count": 119,
   "outputs": [
    {
     "data": {
      "text/plain": "        index    ts_code  ann_date  end_date     eps   or_yoy update_flag\n0           1  000563.SZ  20180428  20180331  0.0396  11.8520           0\n1           2  000022.SZ  20180427  20180331  0.2270   4.2839           1\n2           5  600087.SH  20180424  20180331  0.0179 -12.4245           1\n3           6  000043.SZ  20180428  20180331  0.1013  51.8616           1\n4           7  300571.SZ  20180426  20180331  0.6000  12.3746           0\n...       ...        ...       ...       ...     ...      ...         ...\n112990    951  300602.SZ  20230328  20221231  0.1900  34.8757           1\n112991    952  000728.SZ  20230328  20221231  0.4000 -12.5816           1\n112992    953  301387.SZ  20230328  20221231  1.9900   0.0342           1\n112993    954  688669.SH  20230328  20221231  0.4800  55.6982           1\n112994    955  002611.SZ  20230328  20221231  0.3700  10.4398           1\n\n[112995 rows x 7 columns]",
      "text/html": "<div>\n<style scoped>\n    .dataframe tbody tr th:only-of-type {\n        vertical-align: middle;\n    }\n\n    .dataframe tbody tr th {\n        vertical-align: top;\n    }\n\n    .dataframe thead th {\n        text-align: right;\n    }\n</style>\n<table border=\"1\" class=\"dataframe\">\n  <thead>\n    <tr style=\"text-align: right;\">\n      <th></th>\n      <th>index</th>\n      <th>ts_code</th>\n      <th>ann_date</th>\n      <th>end_date</th>\n      <th>eps</th>\n      <th>or_yoy</th>\n      <th>update_flag</th>\n    </tr>\n  </thead>\n  <tbody>\n    <tr>\n      <th>0</th>\n      <td>1</td>\n      <td>000563.SZ</td>\n      <td>20180428</td>\n      <td>20180331</td>\n      <td>0.0396</td>\n      <td>11.8520</td>\n      <td>0</td>\n    </tr>\n    <tr>\n      <th>1</th>\n      <td>2</td>\n      <td>000022.SZ</td>\n      <td>20180427</td>\n      <td>20180331</td>\n      <td>0.2270</td>\n      <td>4.2839</td>\n      <td>1</td>\n    </tr>\n    <tr>\n      <th>2</th>\n      <td>5</td>\n      <td>600087.SH</td>\n      <td>20180424</td>\n      <td>20180331</td>\n      <td>0.0179</td>\n      <td>-12.4245</td>\n      <td>1</td>\n    </tr>\n    <tr>\n      <th>3</th>\n      <td>6</td>\n      <td>000043.SZ</td>\n      <td>20180428</td>\n      <td>20180331</td>\n      <td>0.1013</td>\n      <td>51.8616</td>\n      <td>1</td>\n    </tr>\n    <tr>\n      <th>4</th>\n      <td>7</td>\n      <td>300571.SZ</td>\n      <td>20180426</td>\n      <td>20180331</td>\n      <td>0.6000</td>\n      <td>12.3746</td>\n      <td>0</td>\n    </tr>\n    <tr>\n      <th>...</th>\n      <td>...</td>\n      <td>...</td>\n      <td>...</td>\n      <td>...</td>\n      <td>...</td>\n      <td>...</td>\n      <td>...</td>\n    </tr>\n    <tr>\n      <th>112990</th>\n      <td>951</td>\n      <td>300602.SZ</td>\n      <td>20230328</td>\n      <td>20221231</td>\n      <td>0.1900</td>\n      <td>34.8757</td>\n      <td>1</td>\n    </tr>\n    <tr>\n      <th>112991</th>\n      <td>952</td>\n      <td>000728.SZ</td>\n      <td>20230328</td>\n      <td>20221231</td>\n      <td>0.4000</td>\n      <td>-12.5816</td>\n      <td>1</td>\n    </tr>\n    <tr>\n      <th>112992</th>\n      <td>953</td>\n      <td>301387.SZ</td>\n      <td>20230328</td>\n      <td>20221231</td>\n      <td>1.9900</td>\n      <td>0.0342</td>\n      <td>1</td>\n    </tr>\n    <tr>\n      <th>112993</th>\n      <td>954</td>\n      <td>688669.SH</td>\n      <td>20230328</td>\n      <td>20221231</td>\n      <td>0.4800</td>\n      <td>55.6982</td>\n      <td>1</td>\n    </tr>\n    <tr>\n      <th>112994</th>\n      <td>955</td>\n      <td>002611.SZ</td>\n      <td>20230328</td>\n      <td>20221231</td>\n      <td>0.3700</td>\n      <td>10.4398</td>\n      <td>1</td>\n    </tr>\n  </tbody>\n</table>\n<p>112995 rows × 7 columns</p>\n</div>"
     },
     "execution_count": 119,
     "metadata": {},
     "output_type": "execute_result"
    }
   ],
   "source": [
    "# 根据报告期列表获取单季数据,这里指单季营业收入同比增速\n",
    "date = datetime.today().strftime('%Y%M%D')\n",
    "df = get_fin_indicators(date=date, period=period_list[0], indicators=['eps', 'or_yoy'])\n",
    "for period in period_list[1:]:\n",
    "    df = pd.concat([df, get_fin_indicators(date=date, period=period, indicators=['eps', 'or_yoy'])], ignore_index=True)\n",
    "df"
   ],
   "metadata": {
    "collapsed": false
   }
  },
  {
   "cell_type": "code",
   "execution_count": 129,
   "outputs": [],
   "source": [
    "negative_eps_sec = list(set(df.loc[df['eps'] < 0, 'ts_code'].tolist()))"
   ],
   "metadata": {
    "collapsed": false
   }
  },
  {
   "cell_type": "code",
   "execution_count": 120,
   "outputs": [],
   "source": [
    "sec_list = list(set(df.ts_code.tolist()))\n",
    "indicator_list = []\n",
    "for sec in sec_list:\n",
    "    single_list = df.loc[df['ts_code'] == sec, 'or_yoy'].tolist()\n",
    "    indicator_list.append(single_list)"
   ],
   "metadata": {
    "collapsed": false
   }
  },
  {
   "cell_type": "code",
   "execution_count": 121,
   "outputs": [],
   "source": [
    "indicator_dict = dict(zip(sec_list, indicator_list))\n",
    "# 删除长度不足 15 的 list\n",
    "indicator_dict = {k: v for k, v in indicator_dict.items() if len(v) >= 15}\n",
    "# 对每个 list 去掉一个最大值和一个最小值\n",
    "indicator_dict = {k: sorted(v)[2:-2] for k, v in indicator_dict.items()}"
   ],
   "metadata": {
    "collapsed": false
   }
  },
  {
   "cell_type": "code",
   "execution_count": 122,
   "outputs": [],
   "source": [
    "new_dict = {k: sum(v) / len(v) for k, v in indicator_dict.items()}\n",
    "mean_df = pd.DataFrame(list(new_dict.items()), columns=['ts_code', 'Mean'])"
   ],
   "metadata": {
    "collapsed": false
   }
  },
  {
   "cell_type": "code",
   "execution_count": 130,
   "outputs": [],
   "source": [
    "mean_df = mean_df.loc[~mean_df['ts_code'].isin(negative_eps_sec)]"
   ],
   "metadata": {
    "collapsed": false
   }
  },
  {
   "cell_type": "code",
   "execution_count": 131,
   "outputs": [
    {
     "data": {
      "text/plain": "        ts_code       Mean\n0     688698.SH  35.823969\n1     002455.SZ  23.041495\n2     002331.SZ  -6.245710\n3     605179.SH  14.288475\n4     002520.SZ   5.214139\n...         ...        ...\n4407  002712.SZ  14.570586\n4408  300517.SZ  42.465900\n4409  300297.SZ -38.807175\n4410  300614.SZ   6.838593\n4411  002765.SZ  54.639078\n\n[3920 rows x 2 columns]",
      "text/html": "<div>\n<style scoped>\n    .dataframe tbody tr th:only-of-type {\n        vertical-align: middle;\n    }\n\n    .dataframe tbody tr th {\n        vertical-align: top;\n    }\n\n    .dataframe thead th {\n        text-align: right;\n    }\n</style>\n<table border=\"1\" class=\"dataframe\">\n  <thead>\n    <tr style=\"text-align: right;\">\n      <th></th>\n      <th>ts_code</th>\n      <th>Mean</th>\n    </tr>\n  </thead>\n  <tbody>\n    <tr>\n      <th>0</th>\n      <td>688698.SH</td>\n      <td>35.823969</td>\n    </tr>\n    <tr>\n      <th>1</th>\n      <td>002455.SZ</td>\n      <td>23.041495</td>\n    </tr>\n    <tr>\n      <th>2</th>\n      <td>002331.SZ</td>\n      <td>-6.245710</td>\n    </tr>\n    <tr>\n      <th>3</th>\n      <td>605179.SH</td>\n      <td>14.288475</td>\n    </tr>\n    <tr>\n      <th>4</th>\n      <td>002520.SZ</td>\n      <td>5.214139</td>\n    </tr>\n    <tr>\n      <th>...</th>\n      <td>...</td>\n      <td>...</td>\n    </tr>\n    <tr>\n      <th>4407</th>\n      <td>002712.SZ</td>\n      <td>14.570586</td>\n    </tr>\n    <tr>\n      <th>4408</th>\n      <td>300517.SZ</td>\n      <td>42.465900</td>\n    </tr>\n    <tr>\n      <th>4409</th>\n      <td>300297.SZ</td>\n      <td>-38.807175</td>\n    </tr>\n    <tr>\n      <th>4410</th>\n      <td>300614.SZ</td>\n      <td>6.838593</td>\n    </tr>\n    <tr>\n      <th>4411</th>\n      <td>002765.SZ</td>\n      <td>54.639078</td>\n    </tr>\n  </tbody>\n</table>\n<p>3920 rows × 2 columns</p>\n</div>"
     },
     "execution_count": 131,
     "metadata": {},
     "output_type": "execute_result"
    }
   ],
   "source": [
    "mean_df"
   ],
   "metadata": {
    "collapsed": false
   }
  },
  {
   "cell_type": "code",
   "execution_count": 146,
   "outputs": [],
   "source": [
    "def years_revenue_growth(date=date, n=5, indicators=['eps', 'or_yoy']):\n",
    "    period_list = get_report_periods_list(end_date=date, n_years=5)\n",
    "    # 根据报告期列表获取单季数据,这里指单季营业收入同比增速\n",
    "    df = get_fin_indicators(date=date, period=period_list[0], indicators=indicators)\n",
    "    for period in period_list[1:]:\n",
    "        df = pd.concat([df, get_fin_indicators(date=date, period=period, indicators=indicators)],\n",
    "                       ignore_index=True)\n",
    "    negative_eps_sec = set(df.loc[df['eps'] < 0, 'ts_code'].tolist())  # 出现过亏损的标的\n",
    "    sec_list = list(set(df.ts_code.tolist()) - negative_eps_sec)  # 出去出现过亏损的标的\n",
    "    indicator_list = []\n",
    "    for sec in sec_list:\n",
    "        single_list = df.loc[df['ts_code'] == sec, 'or_yoy'].tolist()\n",
    "        indicator_list.append(single_list)\n",
    "    indicator_dict = dict(zip(sec_list, indicator_list))\n",
    "    # 删除长度不足 15 的 list\n",
    "    indicator_dict = {k: v for k, v in indicator_dict.items() if len(v) >= 15}\n",
    "    # 对每个 list 去掉n个最大值和n个最小值\n",
    "    indicator_dict = {k: sorted(v)[2:-2] for k, v in indicator_dict.items()}\n",
    "    new_dict = {k: sum(v) / len(v) for k, v in indicator_dict.items()}\n",
    "    mean_df = pd.DataFrame(list(new_dict.items()), columns=['ts_code', 'Mean'])\n",
    "    mean_df = mean_df.loc[~mean_df['ts_code'].isin(negative_eps_sec)]\n",
    "    df_sorted = mean_df.sort_values(by='Mean', ascending=False)\n",
    "    df_sorted = df_sorted.reset_index(drop=True)\n",
    "    return df_sorted\n",
    "\n",
    "\n",
    "date = datetime.today().strftime('%Y%M%D')\n",
    "years_average_revenue_growth_df = years_revenue_growth(date=date, n=5, indicators=['eps', 'or_yoy'])"
   ],
   "metadata": {
    "collapsed": false
   }
  },
  {
   "cell_type": "code",
   "execution_count": 156,
   "outputs": [],
   "source": [
    "#筛选收入增速均值处于最大10%的证券\n",
    "q = years_average_revenue_growth_df['Mean'].quantile(q=0.9)\n",
    "selected_revenue_growth_df = years_average_revenue_growth_df[years_average_revenue_growth_df['Mean'] >= q]\n",
    "selected_revenue_growth_securities = selected_revenue_growth_df.ts_code.tolist()\n",
    "selected_revenue_growth_securities"
   ],
   "metadata": {
    "collapsed": false
   }
  },
  {
   "cell_type": "code",
   "execution_count": 167,
   "outputs": [
    {
     "data": {
      "text/plain": "list"
     },
     "execution_count": 167,
     "metadata": {},
     "output_type": "execute_result"
    }
   ],
   "source": [
    "# 获取这些证券的市值\n",
    "type(selected_revenue_growth_securities)"
   ],
   "metadata": {
    "collapsed": false
   }
  },
  {
   "cell_type": "code",
   "execution_count": 179,
   "outputs": [],
   "source": [
    "date = datetime.today().strftime('%Y%M%D')\n",
    "df = pro.daily_basic(ts_code='', trade_date='20230328',\n",
    "                     fields=['ts_code', 'trade_date', 'turnover_rate', 'volume_ratio', 'pe', 'pb', 'circ_mv'])"
   ],
   "metadata": {
    "collapsed": false
   }
  },
  {
   "cell_type": "code",
   "execution_count": 181,
   "outputs": [],
   "source": [
    "df = df[df['ts_code'].isin(selected_revenue_growth_securities)]"
   ],
   "metadata": {
    "collapsed": false
   }
  },
  {
   "cell_type": "code",
   "execution_count": 187,
   "outputs": [],
   "source": [
    "df_sorted = df.sort_values(by='circ_mv', ascending=True)\n",
    "df_sorted = df_sorted.reset_index(drop=True)"
   ],
   "metadata": {
    "collapsed": false
   }
  },
  {
   "cell_type": "code",
   "execution_count": 188,
   "outputs": [
    {
     "data": {
      "text/plain": "       ts_code trade_date  turnover_rate volume_ratio        pe       pb  \\\n0    605180.SH   20230328         2.3328         None   11.5294   1.8968   \n1    300984.SZ   20230328         1.7632         None   28.3216   2.7866   \n2    003036.SZ   20230328         2.3378         None   22.1364   2.2830   \n3    300930.SZ   20230328         2.2973         None   27.8799   3.4433   \n4    688345.SH   20230328         4.0212         None   35.1222   3.6019   \n..         ...        ...            ...          ...       ...      ...   \n220  688111.SH   20230328         1.7473         None  165.5186  21.1972   \n221  002475.SZ   20230328         1.1510         None   29.9901   5.0801   \n222  300059.SZ   20230328         1.9643         None   30.9489   4.0414   \n223  601012.SH   20230328         0.5629         None   33.2519   5.2336   \n224  300750.SZ   20230328         0.3519         None   31.2059   5.8300   \n\n          circ_mv  \n0    5.980000e+04  \n1    6.892484e+04  \n2    7.564614e+04  \n3    7.911900e+04  \n4    1.065842e+05  \n..            ...  \n220  1.849719e+07  \n221  2.116959e+07  \n222  2.209972e+07  \n223  3.019845e+07  \n224  8.469134e+07  \n\n[225 rows x 7 columns]",
      "text/html": "<div>\n<style scoped>\n    .dataframe tbody tr th:only-of-type {\n        vertical-align: middle;\n    }\n\n    .dataframe tbody tr th {\n        vertical-align: top;\n    }\n\n    .dataframe thead th {\n        text-align: right;\n    }\n</style>\n<table border=\"1\" class=\"dataframe\">\n  <thead>\n    <tr style=\"text-align: right;\">\n      <th></th>\n      <th>ts_code</th>\n      <th>trade_date</th>\n      <th>turnover_rate</th>\n      <th>volume_ratio</th>\n      <th>pe</th>\n      <th>pb</th>\n      <th>circ_mv</th>\n    </tr>\n  </thead>\n  <tbody>\n    <tr>\n      <th>0</th>\n      <td>605180.SH</td>\n      <td>20230328</td>\n      <td>2.3328</td>\n      <td>None</td>\n      <td>11.5294</td>\n      <td>1.8968</td>\n      <td>5.980000e+04</td>\n    </tr>\n    <tr>\n      <th>1</th>\n      <td>300984.SZ</td>\n      <td>20230328</td>\n      <td>1.7632</td>\n      <td>None</td>\n      <td>28.3216</td>\n      <td>2.7866</td>\n      <td>6.892484e+04</td>\n    </tr>\n    <tr>\n      <th>2</th>\n      <td>003036.SZ</td>\n      <td>20230328</td>\n      <td>2.3378</td>\n      <td>None</td>\n      <td>22.1364</td>\n      <td>2.2830</td>\n      <td>7.564614e+04</td>\n    </tr>\n    <tr>\n      <th>3</th>\n      <td>300930.SZ</td>\n      <td>20230328</td>\n      <td>2.2973</td>\n      <td>None</td>\n      <td>27.8799</td>\n      <td>3.4433</td>\n      <td>7.911900e+04</td>\n    </tr>\n    <tr>\n      <th>4</th>\n      <td>688345.SH</td>\n      <td>20230328</td>\n      <td>4.0212</td>\n      <td>None</td>\n      <td>35.1222</td>\n      <td>3.6019</td>\n      <td>1.065842e+05</td>\n    </tr>\n    <tr>\n      <th>...</th>\n      <td>...</td>\n      <td>...</td>\n      <td>...</td>\n      <td>...</td>\n      <td>...</td>\n      <td>...</td>\n      <td>...</td>\n    </tr>\n    <tr>\n      <th>220</th>\n      <td>688111.SH</td>\n      <td>20230328</td>\n      <td>1.7473</td>\n      <td>None</td>\n      <td>165.5186</td>\n      <td>21.1972</td>\n      <td>1.849719e+07</td>\n    </tr>\n    <tr>\n      <th>221</th>\n      <td>002475.SZ</td>\n      <td>20230328</td>\n      <td>1.1510</td>\n      <td>None</td>\n      <td>29.9901</td>\n      <td>5.0801</td>\n      <td>2.116959e+07</td>\n    </tr>\n    <tr>\n      <th>222</th>\n      <td>300059.SZ</td>\n      <td>20230328</td>\n      <td>1.9643</td>\n      <td>None</td>\n      <td>30.9489</td>\n      <td>4.0414</td>\n      <td>2.209972e+07</td>\n    </tr>\n    <tr>\n      <th>223</th>\n      <td>601012.SH</td>\n      <td>20230328</td>\n      <td>0.5629</td>\n      <td>None</td>\n      <td>33.2519</td>\n      <td>5.2336</td>\n      <td>3.019845e+07</td>\n    </tr>\n    <tr>\n      <th>224</th>\n      <td>300750.SZ</td>\n      <td>20230328</td>\n      <td>0.3519</td>\n      <td>None</td>\n      <td>31.2059</td>\n      <td>5.8300</td>\n      <td>8.469134e+07</td>\n    </tr>\n  </tbody>\n</table>\n<p>225 rows × 7 columns</p>\n</div>"
     },
     "execution_count": 188,
     "metadata": {},
     "output_type": "execute_result"
    }
   ],
   "source": [
    "df_sorted"
   ],
   "metadata": {
    "collapsed": false
   }
  },
  {
   "cell_type": "code",
   "execution_count": null,
   "outputs": [],
   "source": [],
   "metadata": {
    "collapsed": false
   }
  }
 ],
 "metadata": {
  "kernelspec": {
   "display_name": "Python 3",
   "language": "python",
   "name": "python3"
  },
  "language_info": {
   "codemirror_mode": {
    "name": "ipython",
    "version": 2
   },
   "file_extension": ".py",
   "mimetype": "text/x-python",
   "name": "python",
   "nbconvert_exporter": "python",
   "pygments_lexer": "ipython2",
   "version": "2.7.6"
  }
 },
 "nbformat": 4,
 "nbformat_minor": 0
}
