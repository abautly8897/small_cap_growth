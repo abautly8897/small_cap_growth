{
 "cells": [
  {
   "cell_type": "markdown",
   "source": [
    "#通过本地database提取数据计算因子"
   ],
   "metadata": {
    "collapsed": false
   }
  },
  {
   "cell_type": "markdown",
   "source": [
    "#1. 5年营业收入成长率"
   ],
   "metadata": {
    "collapsed": false
   }
  },
  {
   "cell_type": "code",
   "execution_count": 84,
   "outputs": [],
   "source": [
    "import numpy as np\n",
    "import pandas as pd\n",
    "import tushare as ts\n",
    "import security_fundamental_data\n",
    "\n",
    "ts.set_token('e9628663b45f87ea92e39aaa7127063830ebd5090bc1e8943138b84f')\n",
    "pro = ts.pro_api()"
   ],
   "metadata": {
    "collapsed": false,
    "ExecuteTime": {
     "start_time": "2023-04-06T17:40:20.984519Z",
     "end_time": "2023-04-06T17:40:21.003524Z"
    }
   }
  },
  {
   "cell_type": "code",
   "execution_count": 2,
   "outputs": [
    {
     "name": "stdout",
     "output_type": "stream",
     "text": [
      "4198\r"
     ]
    }
   ],
   "source": [
    "indicator = '每股营业收入'\n",
    "target_period = '20220331'\n",
    "threshold_date = '20220520'\n",
    "\n",
    "period_list = security_fundamental_data.get_TTM_period_list(target_period)\n",
    "df = security_fundamental_data.get_local_db_stock_fin_abstract(period=target_period, indicator=indicator)\n",
    "df = df.loc[df['ann_date'] <= threshold_date].copy()\n",
    "selected_sec_ls = df.code.tolist()\n",
    "if len(period_list) > 1:\n",
    "    for period in period_list[1:]:\n",
    "        new_df = security_fundamental_data.get_local_db_stock_fin_abstract(period=period, indicator=indicator)\n",
    "        new_df = new_df.loc[new_df['ann_date'] <= threshold_date].copy()\n",
    "        selected_sec_ls = list(set(selected_sec_ls) & set(new_df.code.tolist()))\n",
    "        df = pd.concat([df, new_df], ignore_index=True)\n",
    "df_filtered = df.loc[df['code'].isin(selected_sec_ls)]  # 确保数据完整获取\n",
    "# 得到指定指标的TTM数据\n",
    "result_df = pd.DataFrame(columns=['code', 'ann_date', 'period', indicator + '_TTM'])\n",
    "i = 0\n",
    "for sec in selected_sec_ls:\n",
    "    print(i, end='\\r')\n",
    "    ann_date = \\\n",
    "        df_filtered.loc[\n",
    "            (df_filtered['code'] == sec) & (df_filtered['period'] == target_period), 'ann_date'].iloc[0]\n",
    "    if len(period_list) > 1:\n",
    "        indicator_data = \\\n",
    "            df_filtered.loc[\n",
    "                (df_filtered['code'] == sec) & (df_filtered['period'] == period_list[0]), indicator].iloc[\n",
    "                0] + \\\n",
    "            df_filtered.loc[\n",
    "                (df_filtered['code'] == sec) & (df_filtered['period'] == period_list[1]), indicator].iloc[\n",
    "                0] - \\\n",
    "            df_filtered.loc[\n",
    "                (df_filtered['code'] == sec) & (df_filtered['period'] == period_list[2]), indicator].iloc[\n",
    "                0]\n",
    "    else:\n",
    "        indicator_data = \\\n",
    "            df_filtered.loc[\n",
    "                (df_filtered['code'] == sec) & (df_filtered['period'] == period_list[0]), indicator].iloc[\n",
    "                0]\n",
    "    result_df.loc[i] = [sec, ann_date, target_period, indicator_data]\n",
    "    i += 1"
   ],
   "metadata": {
    "collapsed": false,
    "ExecuteTime": {
     "start_time": "2023-04-06T14:52:40.522216Z",
     "end_time": "2023-04-06T14:53:09.541660Z"
    }
   }
  },
  {
   "cell_type": "code",
   "execution_count": 129,
   "outputs": [
    {
     "data": {
      "text/plain": "        code  ann_date    period  每股营业收入_TTM\n0     002350  20220428  20220331    4.223469\n1     002413  20220428  20220331    1.291662\n2     002572  20220428  20220331   11.667766\n3     688560  20220427  20220331    8.528716\n4     601212  20220429  20220331   10.755090\n...      ...       ...       ...         ...\n4194  600876  20220430  20220331    5.619953\n4195  600057  20220428  20220331  225.725071\n4196  600189  20220430  20220331    2.078305\n4197  600362  20220429  20220331  133.676506\n4198  000068  20220429  20220331    1.114190\n\n[4199 rows x 4 columns]",
      "text/html": "<div>\n<style scoped>\n    .dataframe tbody tr th:only-of-type {\n        vertical-align: middle;\n    }\n\n    .dataframe tbody tr th {\n        vertical-align: top;\n    }\n\n    .dataframe thead th {\n        text-align: right;\n    }\n</style>\n<table border=\"1\" class=\"dataframe\">\n  <thead>\n    <tr style=\"text-align: right;\">\n      <th></th>\n      <th>code</th>\n      <th>ann_date</th>\n      <th>period</th>\n      <th>每股营业收入_TTM</th>\n    </tr>\n  </thead>\n  <tbody>\n    <tr>\n      <th>0</th>\n      <td>002350</td>\n      <td>20220428</td>\n      <td>20220331</td>\n      <td>4.223469</td>\n    </tr>\n    <tr>\n      <th>1</th>\n      <td>002413</td>\n      <td>20220428</td>\n      <td>20220331</td>\n      <td>1.291662</td>\n    </tr>\n    <tr>\n      <th>2</th>\n      <td>002572</td>\n      <td>20220428</td>\n      <td>20220331</td>\n      <td>11.667766</td>\n    </tr>\n    <tr>\n      <th>3</th>\n      <td>688560</td>\n      <td>20220427</td>\n      <td>20220331</td>\n      <td>8.528716</td>\n    </tr>\n    <tr>\n      <th>4</th>\n      <td>601212</td>\n      <td>20220429</td>\n      <td>20220331</td>\n      <td>10.755090</td>\n    </tr>\n    <tr>\n      <th>...</th>\n      <td>...</td>\n      <td>...</td>\n      <td>...</td>\n      <td>...</td>\n    </tr>\n    <tr>\n      <th>4194</th>\n      <td>600876</td>\n      <td>20220430</td>\n      <td>20220331</td>\n      <td>5.619953</td>\n    </tr>\n    <tr>\n      <th>4195</th>\n      <td>600057</td>\n      <td>20220428</td>\n      <td>20220331</td>\n      <td>225.725071</td>\n    </tr>\n    <tr>\n      <th>4196</th>\n      <td>600189</td>\n      <td>20220430</td>\n      <td>20220331</td>\n      <td>2.078305</td>\n    </tr>\n    <tr>\n      <th>4197</th>\n      <td>600362</td>\n      <td>20220429</td>\n      <td>20220331</td>\n      <td>133.676506</td>\n    </tr>\n    <tr>\n      <th>4198</th>\n      <td>000068</td>\n      <td>20220429</td>\n      <td>20220331</td>\n      <td>1.114190</td>\n    </tr>\n  </tbody>\n</table>\n<p>4199 rows × 4 columns</p>\n</div>"
     },
     "execution_count": 129,
     "metadata": {},
     "output_type": "execute_result"
    }
   ],
   "source": [
    "# 从本地数据库获取财务指标数据\n",
    "def get_TTM_fin_indicator_data_from_local(indicator='每股营业收入', target_period='20220331', threshold_date='20220520'):\n",
    "    period_list = security_fundamental_data.get_TTM_period_list(target_period)\n",
    "    df = security_fundamental_data.get_local_db_stock_fin_abstract(period=target_period, indicator=indicator)\n",
    "    df = df.loc[df['ann_date'] <= threshold_date].copy()\n",
    "    selected_sec_ls = df.code.tolist()\n",
    "    if len(period_list) > 1:\n",
    "        for period in period_list[1:]:\n",
    "            new_df = security_fundamental_data.get_local_db_stock_fin_abstract(period=period, indicator=indicator)\n",
    "            new_df = new_df.loc[new_df['ann_date'] <= threshold_date].copy()\n",
    "            selected_sec_ls = list(set(selected_sec_ls) & set(new_df.code.tolist()))\n",
    "            df = pd.concat([df, new_df], ignore_index=True)\n",
    "    df_filtered = df.loc[df['code'].isin(selected_sec_ls)]  # 确保数据完整获取\n",
    "    # 得到指定指标的TTM数据\n",
    "    result_df = pd.DataFrame(columns=['code', 'ann_date', 'period', indicator + '_TTM'])\n",
    "    i = 0\n",
    "    for sec in selected_sec_ls:\n",
    "        # print(i, end='\\r')\n",
    "        ann_date = \\\n",
    "            df_filtered.loc[\n",
    "                (df_filtered['code'] == sec) & (df_filtered['period'] == target_period), 'ann_date'].iloc[0]\n",
    "        if len(period_list) > 1:\n",
    "            indicator_data = \\\n",
    "                df_filtered.loc[\n",
    "                    (df_filtered['code'] == sec) & (df_filtered['period'] == period_list[0]), indicator].iloc[\n",
    "                    0] + \\\n",
    "                df_filtered.loc[\n",
    "                    (df_filtered['code'] == sec) & (df_filtered['period'] == period_list[1]), indicator].iloc[\n",
    "                    0] - \\\n",
    "                df_filtered.loc[\n",
    "                    (df_filtered['code'] == sec) & (df_filtered['period'] == period_list[2]), indicator].iloc[\n",
    "                    0]\n",
    "        else:\n",
    "            indicator_data = \\\n",
    "                df_filtered.loc[\n",
    "                    (df_filtered['code'] == sec) & (df_filtered['period'] == period_list[0]), indicator].iloc[\n",
    "                    0]\n",
    "        result_df.loc[i] = [sec, ann_date, target_period, indicator_data]\n",
    "        i += 1\n",
    "    return result_df\n",
    "\n",
    "\n",
    "indicator = '每股营业收入'\n",
    "target_period = '20220331'\n",
    "threshold_date = '20220520'\n",
    "get_TTM_fin_indicator_data_from_local(target_period=target_period, threshold_date=threshold_date, indicator=indicator)"
   ],
   "metadata": {
    "collapsed": false,
    "ExecuteTime": {
     "start_time": "2023-04-06T18:38:00.955751Z",
     "end_time": "2023-04-06T18:38:30.695531Z"
    }
   }
  },
  {
   "cell_type": "code",
   "execution_count": 17,
   "outputs": [],
   "source": [
    "# 若该因子涉及多年数据，生成相关报告期的列表\n",
    "def get_n_year_factor_period_ls(target_period, n=5):\n",
    "    period_ls = []\n",
    "    for i in range(n):\n",
    "        new_period = str(int(target_period[:4]) - i) + target_period[-4:]\n",
    "        period_ls.append(new_period)\n",
    "    return period_ls"
   ],
   "metadata": {
    "collapsed": false,
    "ExecuteTime": {
     "start_time": "2023-04-06T15:26:36.073513Z",
     "end_time": "2023-04-06T15:26:36.107520Z"
    }
   }
  },
  {
   "cell_type": "code",
   "execution_count": 21,
   "outputs": [
    {
     "name": "stdout",
     "output_type": "stream",
     "text": [
      "20180331\r"
     ]
    }
   ],
   "source": [
    "target_period = '20220331'\n",
    "n = 5\n",
    "indicator = indicator\n",
    "threshold_date = '20220523'\n",
    "\n",
    "period_list = get_n_year_factor_period_ls(target_period=target_period, n=n)\n",
    "df = get_TTM_fin_indicator_data_from_local(target_period=target_period, indicator=indicator)\n",
    "df = df.loc[df['ann_date'] <= threshold_date].copy()\n",
    "selected_sec_ls = df.code.tolist()\n",
    "for period in period_list[1:]:\n",
    "    print(period, end='\\r')\n",
    "    new_df = get_TTM_fin_indicator_data_from_local(target_period=period, indicator=indicator)\n",
    "    new_df = new_df.loc[new_df['ann_date'] <= threshold_date].copy()\n",
    "    selected_sec_ls = list(set(selected_sec_ls) & set(new_df.code.tolist()))\n",
    "    df = pd.concat([df, new_df], ignore_index=True)"
   ],
   "metadata": {
    "collapsed": false,
    "ExecuteTime": {
     "start_time": "2023-04-06T15:28:51.999631Z",
     "end_time": "2023-04-06T15:30:45.731885Z"
    }
   }
  },
  {
   "cell_type": "code",
   "execution_count": 39,
   "outputs": [
    {
     "data": {
      "text/plain": "       index    code  ann_date    period  每股营业收入_TTM\n0      17926  000068  20180417  20180331    0.428322\n1      15882  600470  20180428  20180331    8.766777\n2      15881  002688  20180423  20180331    2.293929\n3      15880  000056  20180421  20180331    0.755863\n4      15879  002482  20180424  20180331    8.467337\n...      ...     ...       ...       ...         ...\n15285   2808  002231  20220429  20220331    1.411829\n15286   2806  002288  20220427  20220331    2.679634\n15287   2804  000999  20220423  20220331   15.996472\n15288   2816  002793  20220430  20220331    4.725080\n15289      0  002350  20220428  20220331    4.223469\n\n[15290 rows x 5 columns]",
      "text/html": "<div>\n<style scoped>\n    .dataframe tbody tr th:only-of-type {\n        vertical-align: middle;\n    }\n\n    .dataframe tbody tr th {\n        vertical-align: top;\n    }\n\n    .dataframe thead th {\n        text-align: right;\n    }\n</style>\n<table border=\"1\" class=\"dataframe\">\n  <thead>\n    <tr style=\"text-align: right;\">\n      <th></th>\n      <th>index</th>\n      <th>code</th>\n      <th>ann_date</th>\n      <th>period</th>\n      <th>每股营业收入_TTM</th>\n    </tr>\n  </thead>\n  <tbody>\n    <tr>\n      <th>0</th>\n      <td>17926</td>\n      <td>000068</td>\n      <td>20180417</td>\n      <td>20180331</td>\n      <td>0.428322</td>\n    </tr>\n    <tr>\n      <th>1</th>\n      <td>15882</td>\n      <td>600470</td>\n      <td>20180428</td>\n      <td>20180331</td>\n      <td>8.766777</td>\n    </tr>\n    <tr>\n      <th>2</th>\n      <td>15881</td>\n      <td>002688</td>\n      <td>20180423</td>\n      <td>20180331</td>\n      <td>2.293929</td>\n    </tr>\n    <tr>\n      <th>3</th>\n      <td>15880</td>\n      <td>000056</td>\n      <td>20180421</td>\n      <td>20180331</td>\n      <td>0.755863</td>\n    </tr>\n    <tr>\n      <th>4</th>\n      <td>15879</td>\n      <td>002482</td>\n      <td>20180424</td>\n      <td>20180331</td>\n      <td>8.467337</td>\n    </tr>\n    <tr>\n      <th>...</th>\n      <td>...</td>\n      <td>...</td>\n      <td>...</td>\n      <td>...</td>\n      <td>...</td>\n    </tr>\n    <tr>\n      <th>15285</th>\n      <td>2808</td>\n      <td>002231</td>\n      <td>20220429</td>\n      <td>20220331</td>\n      <td>1.411829</td>\n    </tr>\n    <tr>\n      <th>15286</th>\n      <td>2806</td>\n      <td>002288</td>\n      <td>20220427</td>\n      <td>20220331</td>\n      <td>2.679634</td>\n    </tr>\n    <tr>\n      <th>15287</th>\n      <td>2804</td>\n      <td>000999</td>\n      <td>20220423</td>\n      <td>20220331</td>\n      <td>15.996472</td>\n    </tr>\n    <tr>\n      <th>15288</th>\n      <td>2816</td>\n      <td>002793</td>\n      <td>20220430</td>\n      <td>20220331</td>\n      <td>4.725080</td>\n    </tr>\n    <tr>\n      <th>15289</th>\n      <td>0</td>\n      <td>002350</td>\n      <td>20220428</td>\n      <td>20220331</td>\n      <td>4.223469</td>\n    </tr>\n  </tbody>\n</table>\n<p>15290 rows × 5 columns</p>\n</div>"
     },
     "execution_count": 39,
     "metadata": {},
     "output_type": "execute_result"
    }
   ],
   "source": [
    "df_filtered = df.loc[df['code'].isin(selected_sec_ls)]  # 确保数据完整获取\n",
    "df_filtered = df_filtered.sort_values(by='period')\n",
    "df_filtered = df_filtered.reset_index(inplace=False)\n",
    "df_filtered"
   ],
   "metadata": {
    "collapsed": false,
    "ExecuteTime": {
     "start_time": "2023-04-06T15:48:09.961488Z",
     "end_time": "2023-04-06T15:48:09.984493Z"
    }
   }
  },
  {
   "cell_type": "code",
   "execution_count": 66,
   "outputs": [],
   "source": [
    "# 对每一只证券的5年每股净利润做线性回归，输出斜率数据\n",
    "slope_df = pd.DataFrame(columns=['code', 'slope'])\n",
    "sec = selected_sec_ls[0]\n",
    "x = np.array([x + 1 for x in list(range(5))])\n",
    "i = 0\n",
    "for sec in selected_sec_ls:\n",
    "    revenue_ls = df_filtered.loc[df_filtered['code'] == sec, '每股营业收入_TTM'].tolist()\n",
    "    revenue_ps_mean = np.mean(revenue_ls)\n",
    "    altered_revenue_ls = [x / revenue_ps_mean for x in revenue_ls]\n",
    "    y = np.array(altered_revenue_ls)\n",
    "    slope, intercept = np.polyfit(x, y, 1)\n",
    "    slope_df.loc[i] = [sec, slope]\n",
    "    i += 1"
   ],
   "metadata": {
    "collapsed": false,
    "ExecuteTime": {
     "start_time": "2023-04-06T16:02:58.336187Z",
     "end_time": "2023-04-06T16:03:03.669386Z"
    }
   }
  },
  {
   "cell_type": "code",
   "execution_count": 79,
   "outputs": [],
   "source": [
    "# 取因子排序后的前10%的证券，此处由大到小排序\n",
    "threshold = slope_df['slope'].quantile(0.9)\n",
    "filtered_df = slope_df[slope_df['slope'] >= threshold]\n",
    "filtered_sec_list = filtered_df.code.tolist()"
   ],
   "metadata": {
    "collapsed": false,
    "ExecuteTime": {
     "start_time": "2023-04-06T17:35:28.573819Z",
     "end_time": "2023-04-06T17:35:28.584821Z"
    }
   }
  },
  {
   "cell_type": "code",
   "execution_count": 104,
   "outputs": [],
   "source": [
    "# 再根据盈利、流通市值筛选\n",
    "df = pro.daily_basic(ts_code='', trade_date=threshold_date, fields='ts_code,trade_date,turnover_rate,volume_ratio,pe,pb,circ_mv')\n",
    "df['code'] = [x[:6] for x in df.ts_code.tolist()]\n",
    "df = df.loc[df['code'].isin(filtered_sec_list)].copy()\n",
    "df = df.loc[df['pe']>0]\n",
    "df_sorted = df.sort_values(by='circ_mv',ignore_index=True)\n",
    "df_sorted"
   ],
   "metadata": {
    "collapsed": false,
    "ExecuteTime": {
     "start_time": "2023-04-06T17:47:52.677771Z",
     "end_time": "2023-04-06T17:47:55.117333Z"
    }
   }
  },
  {
   "cell_type": "code",
   "execution_count": 128,
   "outputs": [],
   "source": [
    "sg_ls = df_sorted.code.tolist()"
   ],
   "metadata": {
    "collapsed": false,
    "ExecuteTime": {
     "start_time": "2023-04-06T18:34:56.081969Z",
     "end_time": "2023-04-06T18:34:56.095981Z"
    }
   }
  },
  {
   "cell_type": "markdown",
   "source": [
    "#2. 5年盈利增长率"
   ],
   "metadata": {
    "collapsed": false
   }
  },
  {
   "cell_type": "code",
   "execution_count": 130,
   "outputs": [
    {
     "data": {
      "text/plain": "        code  ann_date    period  基本每股收益_TTM\n0     002350  20220428  20220331      0.1066\n1     002413  20220428  20220331     -0.1900\n2     002572  20220428  20220331      0.1270\n3     688560  20220427  20220331      0.8000\n4     601212  20220429  20220331      0.0162\n...      ...       ...       ...         ...\n4194  600876  20220430  20220331      0.3400\n4195  600057  20220428  20220331      0.9860\n4196  600189  20220430  20220331      0.1500\n4197  600362  20220429  20220331      1.8100\n4198  000068  20220429  20220331     -0.0824\n\n[4199 rows x 4 columns]",
      "text/html": "<div>\n<style scoped>\n    .dataframe tbody tr th:only-of-type {\n        vertical-align: middle;\n    }\n\n    .dataframe tbody tr th {\n        vertical-align: top;\n    }\n\n    .dataframe thead th {\n        text-align: right;\n    }\n</style>\n<table border=\"1\" class=\"dataframe\">\n  <thead>\n    <tr style=\"text-align: right;\">\n      <th></th>\n      <th>code</th>\n      <th>ann_date</th>\n      <th>period</th>\n      <th>基本每股收益_TTM</th>\n    </tr>\n  </thead>\n  <tbody>\n    <tr>\n      <th>0</th>\n      <td>002350</td>\n      <td>20220428</td>\n      <td>20220331</td>\n      <td>0.1066</td>\n    </tr>\n    <tr>\n      <th>1</th>\n      <td>002413</td>\n      <td>20220428</td>\n      <td>20220331</td>\n      <td>-0.1900</td>\n    </tr>\n    <tr>\n      <th>2</th>\n      <td>002572</td>\n      <td>20220428</td>\n      <td>20220331</td>\n      <td>0.1270</td>\n    </tr>\n    <tr>\n      <th>3</th>\n      <td>688560</td>\n      <td>20220427</td>\n      <td>20220331</td>\n      <td>0.8000</td>\n    </tr>\n    <tr>\n      <th>4</th>\n      <td>601212</td>\n      <td>20220429</td>\n      <td>20220331</td>\n      <td>0.0162</td>\n    </tr>\n    <tr>\n      <th>...</th>\n      <td>...</td>\n      <td>...</td>\n      <td>...</td>\n      <td>...</td>\n    </tr>\n    <tr>\n      <th>4194</th>\n      <td>600876</td>\n      <td>20220430</td>\n      <td>20220331</td>\n      <td>0.3400</td>\n    </tr>\n    <tr>\n      <th>4195</th>\n      <td>600057</td>\n      <td>20220428</td>\n      <td>20220331</td>\n      <td>0.9860</td>\n    </tr>\n    <tr>\n      <th>4196</th>\n      <td>600189</td>\n      <td>20220430</td>\n      <td>20220331</td>\n      <td>0.1500</td>\n    </tr>\n    <tr>\n      <th>4197</th>\n      <td>600362</td>\n      <td>20220429</td>\n      <td>20220331</td>\n      <td>1.8100</td>\n    </tr>\n    <tr>\n      <th>4198</th>\n      <td>000068</td>\n      <td>20220429</td>\n      <td>20220331</td>\n      <td>-0.0824</td>\n    </tr>\n  </tbody>\n</table>\n<p>4199 rows × 4 columns</p>\n</div>"
     },
     "execution_count": 130,
     "metadata": {},
     "output_type": "execute_result"
    }
   ],
   "source": [
    "# 从本地数据库获取财务指标数据\n",
    "def get_TTM_fin_indicator_data_from_local(indicator='每股营业收入', target_period='20220331', threshold_date='20220520'):\n",
    "    period_list = security_fundamental_data.get_TTM_period_list(target_period)\n",
    "    df = security_fundamental_data.get_local_db_stock_fin_abstract(period=target_period, indicator=indicator)\n",
    "    df = df.loc[df['ann_date'] <= threshold_date].copy()\n",
    "    selected_sec_ls = df.code.tolist()\n",
    "    if len(period_list) > 1:\n",
    "        for period in period_list[1:]:\n",
    "            new_df = security_fundamental_data.get_local_db_stock_fin_abstract(period=period, indicator=indicator)\n",
    "            new_df = new_df.loc[new_df['ann_date'] <= threshold_date].copy()\n",
    "            selected_sec_ls = list(set(selected_sec_ls) & set(new_df.code.tolist()))\n",
    "            df = pd.concat([df, new_df], ignore_index=True)\n",
    "    df_filtered = df.loc[df['code'].isin(selected_sec_ls)]  # 确保数据完整获取\n",
    "    # 得到指定指标的TTM数据\n",
    "    result_df = pd.DataFrame(columns=['code', 'ann_date', 'period', indicator + '_TTM'])\n",
    "    i = 0\n",
    "    for sec in selected_sec_ls:\n",
    "        # print(i, end='\\r')\n",
    "        ann_date = \\\n",
    "            df_filtered.loc[\n",
    "                (df_filtered['code'] == sec) & (df_filtered['period'] == target_period), 'ann_date'].iloc[0]\n",
    "        if len(period_list) > 1:\n",
    "            indicator_data = \\\n",
    "                df_filtered.loc[\n",
    "                    (df_filtered['code'] == sec) & (df_filtered['period'] == period_list[0]), indicator].iloc[\n",
    "                    0] + \\\n",
    "                df_filtered.loc[\n",
    "                    (df_filtered['code'] == sec) & (df_filtered['period'] == period_list[1]), indicator].iloc[\n",
    "                    0] - \\\n",
    "                df_filtered.loc[\n",
    "                    (df_filtered['code'] == sec) & (df_filtered['period'] == period_list[2]), indicator].iloc[\n",
    "                    0]\n",
    "        else:\n",
    "            indicator_data = \\\n",
    "                df_filtered.loc[\n",
    "                    (df_filtered['code'] == sec) & (df_filtered['period'] == period_list[0]), indicator].iloc[\n",
    "                    0]\n",
    "        result_df.loc[i] = [sec, ann_date, target_period, indicator_data]\n",
    "        i += 1\n",
    "    return result_df\n",
    "\n",
    "\n",
    "indicator = '基本每股收益'\n",
    "target_period = '20220331'\n",
    "threshold_date = '20220520'\n",
    "get_TTM_fin_indicator_data_from_local(target_period=target_period, threshold_date=threshold_date, indicator=indicator)"
   ],
   "metadata": {
    "collapsed": false,
    "ExecuteTime": {
     "start_time": "2023-04-06T18:39:42.935995Z",
     "end_time": "2023-04-06T18:40:11.469457Z"
    }
   }
  },
  {
   "cell_type": "code",
   "execution_count": 131,
   "outputs": [
    {
     "name": "stdout",
     "output_type": "stream",
     "text": [
      "20180331\r"
     ]
    }
   ],
   "source": [
    "target_period = '20220331'\n",
    "n = 5\n",
    "threshold_date = '20220523'\n",
    "\n",
    "period_list = get_n_year_factor_period_ls(target_period=target_period, n=n)\n",
    "df = get_TTM_fin_indicator_data_from_local(target_period=target_period, indicator=indicator)\n",
    "df = df.loc[df['ann_date'] <= threshold_date].copy()\n",
    "selected_sec_ls = df.code.tolist()\n",
    "for period in period_list[1:]:\n",
    "    print(period, end='\\r')\n",
    "    new_df = get_TTM_fin_indicator_data_from_local(target_period=period, indicator=indicator)\n",
    "    new_df = new_df.loc[new_df['ann_date'] <= threshold_date].copy()\n",
    "    selected_sec_ls = list(set(selected_sec_ls) & set(new_df.code.tolist()))\n",
    "    df = pd.concat([df, new_df], ignore_index=True)"
   ],
   "metadata": {
    "collapsed": false,
    "ExecuteTime": {
     "start_time": "2023-04-06T18:40:42.115378Z",
     "end_time": "2023-04-06T18:42:39.428232Z"
    }
   }
  },
  {
   "cell_type": "code",
   "execution_count": null,
   "outputs": [],
   "source": [
    "df_filtered = df.loc[df['code'].isin(selected_sec_ls)]  # 确保数据完整获取\n",
    "df_filtered = df_filtered.sort_values(by='period')\n",
    "df_filtered = df_filtered.reset_index(inplace=False)\n",
    "df_filtered"
   ],
   "metadata": {
    "collapsed": false
   }
  },
  {
   "cell_type": "code",
   "execution_count": 128,
   "outputs": [],
   "source": [
    "# 取因子排序后的前10%的证券，此处由大到小排序\n",
    "threshold = slope_df['slope'].quantile(0.9)\n",
    "filtered_df = slope_df[slope_df['slope'] >= threshold]\n",
    "filtered_sec_list = filtered_df.code.tolist()"
   ],
   "metadata": {
    "collapsed": false,
    "ExecuteTime": {
     "start_time": "2023-04-06T18:36:13.794384Z",
     "end_time": "2023-04-06T18:36:13.823399Z"
    }
   }
  },
  {
   "cell_type": "code",
   "execution_count": 128,
   "outputs": [],
   "source": [
    "# 再根据盈利、流通市值筛选\n",
    "df = pro.daily_basic(ts_code='', trade_date=threshold_date, fields='ts_code,trade_date,turnover_rate,volume_ratio,pe,pb,circ_mv')\n",
    "df['code'] = [x[:6] for x in df.ts_code.tolist()]\n",
    "df = df.loc[df['code'].isin(filtered_sec_list)].copy()\n",
    "df = df.loc[df['pe']>0]\n",
    "df_sorted = df.sort_values(by='circ_mv',ignore_index=True)\n",
    "df_sorted"
   ],
   "metadata": {
    "collapsed": false,
    "ExecuteTime": {
     "start_time": "2023-04-06T18:36:13.852397Z",
     "end_time": "2023-04-06T18:36:13.882404Z"
    }
   }
  },
  {
   "cell_type": "code",
   "execution_count": 128,
   "outputs": [],
   "source": [
    "eg_ls = df_sorted.code.tolist()"
   ],
   "metadata": {
    "collapsed": false,
    "ExecuteTime": {
     "start_time": "2023-04-06T18:36:14.007432Z",
     "end_time": "2023-04-06T18:36:14.038439Z"
    }
   }
  },
  {
   "cell_type": "code",
   "execution_count": 128,
   "outputs": [],
   "source": [],
   "metadata": {
    "collapsed": false,
    "ExecuteTime": {
     "start_time": "2023-04-06T18:36:14.184634Z",
     "end_time": "2023-04-06T18:36:14.216641Z"
    }
   }
  },
  {
   "cell_type": "code",
   "execution_count": 128,
   "outputs": [],
   "source": [],
   "metadata": {
    "collapsed": false,
    "ExecuteTime": {
     "start_time": "2023-04-06T18:36:14.336670Z",
     "end_time": "2023-04-06T18:36:14.363676Z"
    }
   }
  },
  {
   "cell_type": "code",
   "execution_count": null,
   "outputs": [],
   "source": [],
   "metadata": {
    "collapsed": false
   }
  }
 ],
 "metadata": {
  "kernelspec": {
   "display_name": "Python 3",
   "language": "python",
   "name": "python3"
  },
  "language_info": {
   "codemirror_mode": {
    "name": "ipython",
    "version": 2
   },
   "file_extension": ".py",
   "mimetype": "text/x-python",
   "name": "python",
   "nbconvert_exporter": "python",
   "pygments_lexer": "ipython2",
   "version": "2.7.6"
  }
 },
 "nbformat": 4,
 "nbformat_minor": 0
}
