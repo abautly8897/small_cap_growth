{
 "cells": [
  {
   "cell_type": "markdown",
   "source": [
    "# 5年营业收入增长率 sales_growth\n",
    "过去5个财年的 每股营业收入增长 除以 年均每股营业收入\n",
    "\n",
    "注意：对于基本面数据，\n",
    "每年11-第二年4月使用前一年0930的TTM数据，既三季报+前一年四季度\n",
    "5-8月使用1季度0331的TTM数据，\n",
    "9-10月使用中报0630的TTM数据，\n",
    "11-12月使用当年三季报0930的TTM数据"
   ],
   "metadata": {
    "collapsed": false
   }
  },
  {
   "cell_type": "code",
   "execution_count": 2,
   "outputs": [],
   "source": [
    "import datetime\n",
    "\n",
    "import pandas as pd\n",
    "# 获取tushare每股营业收入数据\n",
    "import tushare as ts\n",
    "\n",
    "pro = ts.pro_api('e9628663b45f87ea92e39aaa7127063830ebd5090bc1e8943138b84f')\n",
    "\n"
   ],
   "metadata": {
    "collapsed": false,
    "ExecuteTime": {
     "start_time": "2023-04-05T19:50:36.215952Z",
     "end_time": "2023-04-05T19:50:37.193181Z"
    }
   }
  },
  {
   "cell_type": "code",
   "execution_count": 3,
   "outputs": [
    {
     "data": {
      "text/plain": "'20230405'"
     },
     "execution_count": 3,
     "metadata": {},
     "output_type": "execute_result"
    }
   ],
   "source": [
    "datetime.datetime.today().strftime('%Y%m%d')"
   ],
   "metadata": {
    "collapsed": false,
    "ExecuteTime": {
     "start_time": "2023-04-05T19:50:38.159405Z",
     "end_time": "2023-04-05T19:50:38.184410Z"
    }
   }
  },
  {
   "cell_type": "code",
   "execution_count": 4,
   "outputs": [
    {
     "data": {
      "text/plain": "        ts_code  ann_date  end_date     eps  dt_eps  total_revenue_ps  \\\n0     A22231.SZ  20230118  20221231  4.1400  4.0500           27.3891   \n1     A22460.SZ  20230118  20221231     NaN     NaN               NaN   \n2     A22278.SZ  20230130  20221231     NaN     NaN               NaN   \n3     A22137.BJ  20230201  20221231  0.4500  0.4500           13.0174   \n4     A21410.SZ  20230310  20221231  0.2700  0.2700            2.6092   \n...         ...       ...       ...     ...     ...               ...   \n1803  300956.SZ  20230405  20221231 -0.2100 -0.1500           10.3967   \n1804  A23053.SH  20230404  20221231  1.3826  1.3826           29.1154   \n1805  A23054.SZ  20230404  20221231  1.0583  1.0583            3.7025   \n1806  A22319.BJ  20230405  20221231  0.9400  0.9400            2.2881   \n1807  600663.SH  20230331  20221231  0.2689  0.2689            2.9156   \n\n      revenue_ps  capital_rese_ps  surplus_rese_ps  undist_profit_ps  ...  \\\n0        27.3891           1.4895           0.5000            6.4809  ...   \n1            NaN              NaN              NaN               NaN  ...   \n2            NaN              NaN              NaN               NaN  ...   \n3        13.0174           1.6935           0.1906            0.8117  ...   \n4         2.6092           0.2330           0.0900            0.4380  ...   \n...          ...              ...              ...               ...  ...   \n1803     10.3967           4.4384           0.0981            2.3899  ...   \n1804     29.1154           7.8299           0.0560            1.4079  ...   \n1805      3.7025           2.2736           0.2097            2.1022  ...   \n1806      2.2881           1.4156           0.4986            1.4546  ...   \n1807      2.9156           0.0113           0.6630            3.5399  ...   \n\n       roe_yoy  bps_yoy  assets_yoy  eqt_yoy   tr_yoy   or_yoy  q_sales_yoy  \\\n0      62.8621  74.3120     62.2231  74.3135  58.6078  58.6078          NaN   \n1      43.1659      NaN     45.6121  25.5637  91.0482  91.0482          NaN   \n2     -11.0430      NaN     30.7480  41.9701  21.4938  21.4938          NaN   \n3       4.2923   4.7087     -1.5606   4.7099  15.8528  15.8528      40.7736   \n4      43.0436  17.3300      4.2451  17.7526  36.9964  36.9964       3.2901   \n...        ...      ...         ...      ...      ...      ...          ...   \n1803 -141.3840  -3.7802     -4.7616   6.2800 -18.7776 -18.7776     -50.7755   \n1804  124.6079  15.6360     34.3165  15.6355  75.4870  75.4870          NaN   \n1805   48.0619  25.2870     22.7006  25.2858  43.2791  43.2791          NaN   \n1806   -5.2598  10.3500      5.0483  10.3123  -0.7944  -0.7944      -6.2946   \n1807  -73.6147  -4.6341      3.9710  -4.6332 -15.2086 -15.2086     -16.2027   \n\n      q_op_qoq  equity_yoy  update_flag  \n0          NaN     74.3135            1  \n1          NaN     25.5637            1  \n2          NaN     41.9701            0  \n3     477.0235      4.7099            1  \n4      41.0361     17.7526            1  \n...        ...         ...          ...  \n1803 -213.0578      6.2800            1  \n1804       NaN     15.6355            1  \n1805       NaN     25.2858            1  \n1806  -20.1931     10.3123            0  \n1807 -121.7494     -4.6332            1  \n\n[1808 rows x 109 columns]",
      "text/html": "<div>\n<style scoped>\n    .dataframe tbody tr th:only-of-type {\n        vertical-align: middle;\n    }\n\n    .dataframe tbody tr th {\n        vertical-align: top;\n    }\n\n    .dataframe thead th {\n        text-align: right;\n    }\n</style>\n<table border=\"1\" class=\"dataframe\">\n  <thead>\n    <tr style=\"text-align: right;\">\n      <th></th>\n      <th>ts_code</th>\n      <th>ann_date</th>\n      <th>end_date</th>\n      <th>eps</th>\n      <th>dt_eps</th>\n      <th>total_revenue_ps</th>\n      <th>revenue_ps</th>\n      <th>capital_rese_ps</th>\n      <th>surplus_rese_ps</th>\n      <th>undist_profit_ps</th>\n      <th>...</th>\n      <th>roe_yoy</th>\n      <th>bps_yoy</th>\n      <th>assets_yoy</th>\n      <th>eqt_yoy</th>\n      <th>tr_yoy</th>\n      <th>or_yoy</th>\n      <th>q_sales_yoy</th>\n      <th>q_op_qoq</th>\n      <th>equity_yoy</th>\n      <th>update_flag</th>\n    </tr>\n  </thead>\n  <tbody>\n    <tr>\n      <th>0</th>\n      <td>A22231.SZ</td>\n      <td>20230118</td>\n      <td>20221231</td>\n      <td>4.1400</td>\n      <td>4.0500</td>\n      <td>27.3891</td>\n      <td>27.3891</td>\n      <td>1.4895</td>\n      <td>0.5000</td>\n      <td>6.4809</td>\n      <td>...</td>\n      <td>62.8621</td>\n      <td>74.3120</td>\n      <td>62.2231</td>\n      <td>74.3135</td>\n      <td>58.6078</td>\n      <td>58.6078</td>\n      <td>NaN</td>\n      <td>NaN</td>\n      <td>74.3135</td>\n      <td>1</td>\n    </tr>\n    <tr>\n      <th>1</th>\n      <td>A22460.SZ</td>\n      <td>20230118</td>\n      <td>20221231</td>\n      <td>NaN</td>\n      <td>NaN</td>\n      <td>NaN</td>\n      <td>NaN</td>\n      <td>NaN</td>\n      <td>NaN</td>\n      <td>NaN</td>\n      <td>...</td>\n      <td>43.1659</td>\n      <td>NaN</td>\n      <td>45.6121</td>\n      <td>25.5637</td>\n      <td>91.0482</td>\n      <td>91.0482</td>\n      <td>NaN</td>\n      <td>NaN</td>\n      <td>25.5637</td>\n      <td>1</td>\n    </tr>\n    <tr>\n      <th>2</th>\n      <td>A22278.SZ</td>\n      <td>20230130</td>\n      <td>20221231</td>\n      <td>NaN</td>\n      <td>NaN</td>\n      <td>NaN</td>\n      <td>NaN</td>\n      <td>NaN</td>\n      <td>NaN</td>\n      <td>NaN</td>\n      <td>...</td>\n      <td>-11.0430</td>\n      <td>NaN</td>\n      <td>30.7480</td>\n      <td>41.9701</td>\n      <td>21.4938</td>\n      <td>21.4938</td>\n      <td>NaN</td>\n      <td>NaN</td>\n      <td>41.9701</td>\n      <td>0</td>\n    </tr>\n    <tr>\n      <th>3</th>\n      <td>A22137.BJ</td>\n      <td>20230201</td>\n      <td>20221231</td>\n      <td>0.4500</td>\n      <td>0.4500</td>\n      <td>13.0174</td>\n      <td>13.0174</td>\n      <td>1.6935</td>\n      <td>0.1906</td>\n      <td>0.8117</td>\n      <td>...</td>\n      <td>4.2923</td>\n      <td>4.7087</td>\n      <td>-1.5606</td>\n      <td>4.7099</td>\n      <td>15.8528</td>\n      <td>15.8528</td>\n      <td>40.7736</td>\n      <td>477.0235</td>\n      <td>4.7099</td>\n      <td>1</td>\n    </tr>\n    <tr>\n      <th>4</th>\n      <td>A21410.SZ</td>\n      <td>20230310</td>\n      <td>20221231</td>\n      <td>0.2700</td>\n      <td>0.2700</td>\n      <td>2.6092</td>\n      <td>2.6092</td>\n      <td>0.2330</td>\n      <td>0.0900</td>\n      <td>0.4380</td>\n      <td>...</td>\n      <td>43.0436</td>\n      <td>17.3300</td>\n      <td>4.2451</td>\n      <td>17.7526</td>\n      <td>36.9964</td>\n      <td>36.9964</td>\n      <td>3.2901</td>\n      <td>41.0361</td>\n      <td>17.7526</td>\n      <td>1</td>\n    </tr>\n    <tr>\n      <th>...</th>\n      <td>...</td>\n      <td>...</td>\n      <td>...</td>\n      <td>...</td>\n      <td>...</td>\n      <td>...</td>\n      <td>...</td>\n      <td>...</td>\n      <td>...</td>\n      <td>...</td>\n      <td>...</td>\n      <td>...</td>\n      <td>...</td>\n      <td>...</td>\n      <td>...</td>\n      <td>...</td>\n      <td>...</td>\n      <td>...</td>\n      <td>...</td>\n      <td>...</td>\n      <td>...</td>\n    </tr>\n    <tr>\n      <th>1803</th>\n      <td>300956.SZ</td>\n      <td>20230405</td>\n      <td>20221231</td>\n      <td>-0.2100</td>\n      <td>-0.1500</td>\n      <td>10.3967</td>\n      <td>10.3967</td>\n      <td>4.4384</td>\n      <td>0.0981</td>\n      <td>2.3899</td>\n      <td>...</td>\n      <td>-141.3840</td>\n      <td>-3.7802</td>\n      <td>-4.7616</td>\n      <td>6.2800</td>\n      <td>-18.7776</td>\n      <td>-18.7776</td>\n      <td>-50.7755</td>\n      <td>-213.0578</td>\n      <td>6.2800</td>\n      <td>1</td>\n    </tr>\n    <tr>\n      <th>1804</th>\n      <td>A23053.SH</td>\n      <td>20230404</td>\n      <td>20221231</td>\n      <td>1.3826</td>\n      <td>1.3826</td>\n      <td>29.1154</td>\n      <td>29.1154</td>\n      <td>7.8299</td>\n      <td>0.0560</td>\n      <td>1.4079</td>\n      <td>...</td>\n      <td>124.6079</td>\n      <td>15.6360</td>\n      <td>34.3165</td>\n      <td>15.6355</td>\n      <td>75.4870</td>\n      <td>75.4870</td>\n      <td>NaN</td>\n      <td>NaN</td>\n      <td>15.6355</td>\n      <td>1</td>\n    </tr>\n    <tr>\n      <th>1805</th>\n      <td>A23054.SZ</td>\n      <td>20230404</td>\n      <td>20221231</td>\n      <td>1.0583</td>\n      <td>1.0583</td>\n      <td>3.7025</td>\n      <td>3.7025</td>\n      <td>2.2736</td>\n      <td>0.2097</td>\n      <td>2.1022</td>\n      <td>...</td>\n      <td>48.0619</td>\n      <td>25.2870</td>\n      <td>22.7006</td>\n      <td>25.2858</td>\n      <td>43.2791</td>\n      <td>43.2791</td>\n      <td>NaN</td>\n      <td>NaN</td>\n      <td>25.2858</td>\n      <td>1</td>\n    </tr>\n    <tr>\n      <th>1806</th>\n      <td>A22319.BJ</td>\n      <td>20230405</td>\n      <td>20221231</td>\n      <td>0.9400</td>\n      <td>0.9400</td>\n      <td>2.2881</td>\n      <td>2.2881</td>\n      <td>1.4156</td>\n      <td>0.4986</td>\n      <td>1.4546</td>\n      <td>...</td>\n      <td>-5.2598</td>\n      <td>10.3500</td>\n      <td>5.0483</td>\n      <td>10.3123</td>\n      <td>-0.7944</td>\n      <td>-0.7944</td>\n      <td>-6.2946</td>\n      <td>-20.1931</td>\n      <td>10.3123</td>\n      <td>0</td>\n    </tr>\n    <tr>\n      <th>1807</th>\n      <td>600663.SH</td>\n      <td>20230331</td>\n      <td>20221231</td>\n      <td>0.2689</td>\n      <td>0.2689</td>\n      <td>2.9156</td>\n      <td>2.9156</td>\n      <td>0.0113</td>\n      <td>0.6630</td>\n      <td>3.5399</td>\n      <td>...</td>\n      <td>-73.6147</td>\n      <td>-4.6341</td>\n      <td>3.9710</td>\n      <td>-4.6332</td>\n      <td>-15.2086</td>\n      <td>-15.2086</td>\n      <td>-16.2027</td>\n      <td>-121.7494</td>\n      <td>-4.6332</td>\n      <td>1</td>\n    </tr>\n  </tbody>\n</table>\n<p>1808 rows × 109 columns</p>\n</div>"
     },
     "execution_count": 4,
     "metadata": {},
     "output_type": "execute_result"
    }
   ],
   "source": [
    "df = pro.fina_indicator_vip(period='20221231')\n",
    "df"
   ],
   "metadata": {
    "collapsed": false,
    "ExecuteTime": {
     "start_time": "2023-04-05T19:50:39.585744Z",
     "end_time": "2023-04-05T19:50:42.562427Z"
    }
   }
  },
  {
   "cell_type": "code",
   "execution_count": 13,
   "outputs": [],
   "source": [
    "# 获取tusahre财务指标数据，可指定数据品种、证券范围以及数据获取时间\n",
    "def get_fin_indicators(period, indicators, security=[], date=datetime.datetime.today().strftime('%Y%m%d'),\n",
    "                       market_sign='A'):\n",
    "    '''\n",
    "    :param security: security list\n",
    "    :param date: yyyymmdd\n",
    "    :param period: yyyymmdd\n",
    "    :param indicators: list\n",
    "    :return: dataframe\n",
    "    '''\n",
    "\n",
    "    fields = ['ts_code', 'ann_date', 'end_date', 'update_flag']\n",
    "    fields.extend(indicators)\n",
    "    revenue_ps_df = pro.fina_indicator_vip(period=period, fields=fields)\n",
    "    revenue_ps_df.dropna(inplace=True)\n",
    "    # 查看是否指定了证券区间\n",
    "    if len(security) > 0:\n",
    "        revenue_ps_df = revenue_ps_df.loc[revenue_ps_df['ts_code'].isin(security)]\n",
    "    if market_sign == 'A':\n",
    "        revenue_ps_df = revenue_ps_df[revenue_ps_df['ts_code'].str.startswith(('0', '3', '6'))]\n",
    "    revenue_ps_df = revenue_ps_df[revenue_ps_df['ann_date'] <= date]\n",
    "    revenue_ps_df = revenue_ps_df.reset_index()\n",
    "    revenue_ps_df.drop('index', axis=1)\n",
    "    return revenue_ps_df\n",
    "\n",
    "# get_fin_indicators(date='20230316', period='20221231', indicators=['eps', 'revenue_ps'])"
   ],
   "metadata": {
    "collapsed": false,
    "ExecuteTime": {
     "start_time": "2023-04-05T19:52:06.648964Z",
     "end_time": "2023-04-05T19:52:06.693974Z"
    }
   }
  },
  {
   "cell_type": "code",
   "execution_count": 14,
   "outputs": [
    {
     "data": {
      "text/plain": "      index    ts_code  ann_date  end_date     eps  revenue_ps update_flag\n0        10  001311.SZ  20230206  20221231  4.2000     31.6510           0\n1        11  001225.SZ  20230206  20221231  4.5500     10.2397           0\n2        12  603073.SH  20230206  20221231  1.2600      8.4560           0\n3        13  001311.SZ  20230206  20221231  4.2000     31.6510           1\n4        16  001225.SZ  20230404  20221231  4.5600     10.2397           1\n...     ...        ...       ...       ...     ...         ...         ...\n1355   1800  301378.SZ  20230301  20221231  2.5400     13.4132           1\n1356   1801  603065.SH  20230209  20221231  0.6500      4.7534           1\n1357   1802  300062.SZ  20230405  20221231  0.0742      2.3533           1\n1358   1803  300956.SZ  20230405  20221231 -0.2100     10.3967           1\n1359   1807  600663.SH  20230331  20221231  0.2689      2.9156           1\n\n[1360 rows x 7 columns]",
      "text/html": "<div>\n<style scoped>\n    .dataframe tbody tr th:only-of-type {\n        vertical-align: middle;\n    }\n\n    .dataframe tbody tr th {\n        vertical-align: top;\n    }\n\n    .dataframe thead th {\n        text-align: right;\n    }\n</style>\n<table border=\"1\" class=\"dataframe\">\n  <thead>\n    <tr style=\"text-align: right;\">\n      <th></th>\n      <th>index</th>\n      <th>ts_code</th>\n      <th>ann_date</th>\n      <th>end_date</th>\n      <th>eps</th>\n      <th>revenue_ps</th>\n      <th>update_flag</th>\n    </tr>\n  </thead>\n  <tbody>\n    <tr>\n      <th>0</th>\n      <td>10</td>\n      <td>001311.SZ</td>\n      <td>20230206</td>\n      <td>20221231</td>\n      <td>4.2000</td>\n      <td>31.6510</td>\n      <td>0</td>\n    </tr>\n    <tr>\n      <th>1</th>\n      <td>11</td>\n      <td>001225.SZ</td>\n      <td>20230206</td>\n      <td>20221231</td>\n      <td>4.5500</td>\n      <td>10.2397</td>\n      <td>0</td>\n    </tr>\n    <tr>\n      <th>2</th>\n      <td>12</td>\n      <td>603073.SH</td>\n      <td>20230206</td>\n      <td>20221231</td>\n      <td>1.2600</td>\n      <td>8.4560</td>\n      <td>0</td>\n    </tr>\n    <tr>\n      <th>3</th>\n      <td>13</td>\n      <td>001311.SZ</td>\n      <td>20230206</td>\n      <td>20221231</td>\n      <td>4.2000</td>\n      <td>31.6510</td>\n      <td>1</td>\n    </tr>\n    <tr>\n      <th>4</th>\n      <td>16</td>\n      <td>001225.SZ</td>\n      <td>20230404</td>\n      <td>20221231</td>\n      <td>4.5600</td>\n      <td>10.2397</td>\n      <td>1</td>\n    </tr>\n    <tr>\n      <th>...</th>\n      <td>...</td>\n      <td>...</td>\n      <td>...</td>\n      <td>...</td>\n      <td>...</td>\n      <td>...</td>\n      <td>...</td>\n    </tr>\n    <tr>\n      <th>1355</th>\n      <td>1800</td>\n      <td>301378.SZ</td>\n      <td>20230301</td>\n      <td>20221231</td>\n      <td>2.5400</td>\n      <td>13.4132</td>\n      <td>1</td>\n    </tr>\n    <tr>\n      <th>1356</th>\n      <td>1801</td>\n      <td>603065.SH</td>\n      <td>20230209</td>\n      <td>20221231</td>\n      <td>0.6500</td>\n      <td>4.7534</td>\n      <td>1</td>\n    </tr>\n    <tr>\n      <th>1357</th>\n      <td>1802</td>\n      <td>300062.SZ</td>\n      <td>20230405</td>\n      <td>20221231</td>\n      <td>0.0742</td>\n      <td>2.3533</td>\n      <td>1</td>\n    </tr>\n    <tr>\n      <th>1358</th>\n      <td>1803</td>\n      <td>300956.SZ</td>\n      <td>20230405</td>\n      <td>20221231</td>\n      <td>-0.2100</td>\n      <td>10.3967</td>\n      <td>1</td>\n    </tr>\n    <tr>\n      <th>1359</th>\n      <td>1807</td>\n      <td>600663.SH</td>\n      <td>20230331</td>\n      <td>20221231</td>\n      <td>0.2689</td>\n      <td>2.9156</td>\n      <td>1</td>\n    </tr>\n  </tbody>\n</table>\n<p>1360 rows × 7 columns</p>\n</div>"
     },
     "execution_count": 14,
     "metadata": {},
     "output_type": "execute_result"
    }
   ],
   "source": [
    "# 生成revenue-ps的TTM数据\n",
    "period = '20221231'\n",
    "indicators = ['eps', 'revenue_ps']\n",
    "get_fin_indicators(period, indicators)"
   ],
   "metadata": {
    "collapsed": false,
    "ExecuteTime": {
     "start_time": "2023-04-05T19:52:07.193090Z",
     "end_time": "2023-04-05T19:52:07.447149Z"
    }
   }
  },
  {
   "cell_type": "code",
   "execution_count": 44,
   "outputs": [],
   "source": [
    "# 根据目标period生成period_list\n",
    "\n",
    "def get_TTM_period_list(target_period):\n",
    "    if target_period[4:] != '1231':\n",
    "        period_list = [target_period, str(int(target_period[:4]) - 1) + '1231',\n",
    "                       str(int(target_period[:4]) - 1) + '0930']\n",
    "    else:\n",
    "        period_list = [target_period]\n",
    "    return period_list"
   ],
   "metadata": {
    "collapsed": false,
    "ExecuteTime": {
     "start_time": "2023-04-05T20:13:14.272647Z",
     "end_time": "2023-04-05T20:13:14.293651Z"
    }
   }
  },
  {
   "cell_type": "code",
   "execution_count": 45,
   "outputs": [
    {
     "data": {
      "text/plain": "['20221231']"
     },
     "execution_count": 45,
     "metadata": {},
     "output_type": "execute_result"
    }
   ],
   "source": [
    "target_period = '20221231'\n",
    "get_TTM_period_list(target_period)"
   ],
   "metadata": {
    "collapsed": false,
    "ExecuteTime": {
     "start_time": "2023-04-05T20:13:14.488696Z",
     "end_time": "2023-04-05T20:13:14.504700Z"
    }
   }
  },
  {
   "cell_type": "code",
   "execution_count": 46,
   "outputs": [
    {
     "data": {
      "text/plain": "'1231'"
     },
     "execution_count": 46,
     "metadata": {},
     "output_type": "execute_result"
    }
   ],
   "source": [
    "target_period[4:]"
   ],
   "metadata": {
    "collapsed": false,
    "ExecuteTime": {
     "start_time": "2023-04-05T20:13:14.711748Z",
     "end_time": "2023-04-05T20:13:14.739754Z"
    }
   }
  },
  {
   "cell_type": "code",
   "execution_count": 47,
   "outputs": [],
   "source": [
    "# 生成revenue-ps的TTM数据\n",
    "indicator = 'revenue_ps'\n",
    "indicators = [indicator]\n",
    "period = '20220930'\n",
    "period_list = get_TTM_period_list(period)\n",
    "df = get_fin_indicators(period, indicators)\n",
    "selected_sec_ls = df.ts_code.tolist()\n",
    "if len(period_list) > 1:\n",
    "    for period in period_list[1:]:\n",
    "        new_df = get_fin_indicators(period, indicators)\n",
    "        selected_sec_ls = list(set(selected_sec_ls) & set(new_df.ts_code.tolist()))\n",
    "        df = pd.concat([df, new_df], ignore_index=True)\n",
    "df = df.loc[df['ts_code'].isin(selected_sec_ls)]\n",
    "df = df.reset_index()"
   ],
   "metadata": {
    "collapsed": false,
    "ExecuteTime": {
     "start_time": "2023-04-05T20:13:14.918796Z",
     "end_time": "2023-04-05T20:13:27.878424Z"
    }
   }
  },
  {
   "cell_type": "code",
   "execution_count": 51,
   "outputs": [],
   "source": [
    "# 针对公告修正进行调整\n",
    "#使用 Pandas 库的 groupby() 函数将 Dataframe 中具有相同 col1 和 col2 值的行分组\n",
    "groups = df.groupby(['ts_code', 'end_date'], group_keys=True)\n",
    "\n",
    "\n",
    "def filter_group(group):\n",
    "    if (group['update_flag'] == '0').all():\n",
    "        return group\n",
    "    return group[group['update_flag'] != '0']\n",
    "\n",
    "\n",
    "df_filtered = groups.apply(filter_group)\n",
    "df_filtered = df_filtered.set_index('index')\n",
    "origin_sec_ls = list(set(df_filtered.ts_code.tolist()))"
   ],
   "metadata": {
    "collapsed": false,
    "ExecuteTime": {
     "start_time": "2023-04-05T20:13:27.942438Z",
     "end_time": "2023-04-05T20:13:40.235268Z"
    }
   }
  },
  {
   "cell_type": "code",
   "execution_count": 55,
   "outputs": [
    {
     "name": "stdout",
     "output_type": "stream",
     "text": [
      "4690\r"
     ]
    }
   ],
   "source": [
    "# 得到指定指标的TTM数据\n",
    "indicator = 'revenue_ps'\n",
    "result_df = pd.DataFrame(columns=['code', 'ann_date', 'period', indicator + '_TTM'])\n",
    "i = 0\n",
    "for sec in origin_sec_ls:\n",
    "    print(i, end='\\r')\n",
    "    ann_date = df_filtered.loc[(df_filtered['ts_code'] == sec) & (df_filtered['end_date'] == period), indicator].iloc[0]\n",
    "    indicator_data = \\\n",
    "        df_filtered.loc[(df_filtered['ts_code'] == sec) & (df_filtered['end_date'] == period_list[0]), indicator].iloc[\n",
    "            0] + \\\n",
    "        df_filtered.loc[(df_filtered['ts_code'] == sec) & (df_filtered['end_date'] == period_list[1]), indicator].iloc[\n",
    "            0] - \\\n",
    "        df_filtered.loc[(df_filtered['ts_code'] == sec) & (df_filtered['end_date'] == period_list[2]), indicator].iloc[\n",
    "            0]\n",
    "    result_ls = [sec, ann_date, period, indicator_data]\n",
    "    result_df.loc[i] = result_ls\n",
    "    i += 1"
   ],
   "metadata": {
    "collapsed": false,
    "ExecuteTime": {
     "start_time": "2023-04-05T20:13:40.284279Z",
     "end_time": "2023-04-05T20:14:20.941638Z"
    }
   }
  },
  {
   "cell_type": "code",
   "execution_count": 56,
   "outputs": [
    {
     "data": {
      "text/plain": "           code  ann_date  end_date  revenue_ps\n0     601333.SH    2.1102  20210930      2.8940\n1     002629.SZ    0.2209  20210930      0.3765\n2     002433.SZ    1.8861  20210930      1.9774\n3     002901.SZ    3.2208  20210930      4.6621\n4     002869.SZ    1.3186  20210930      2.3227\n...         ...       ...       ...         ...\n4686  000066.SZ    4.0394  20210930      4.9539\n4687  301116.SZ   29.2571  20210930     41.0125\n4688  300851.SZ    1.9182  20210930      4.2548\n4689  002691.SZ    0.6144  20210930      0.9609\n4690  300289.SZ    0.7570  20210930      1.2760\n\n[4691 rows x 4 columns]",
      "text/html": "<div>\n<style scoped>\n    .dataframe tbody tr th:only-of-type {\n        vertical-align: middle;\n    }\n\n    .dataframe tbody tr th {\n        vertical-align: top;\n    }\n\n    .dataframe thead th {\n        text-align: right;\n    }\n</style>\n<table border=\"1\" class=\"dataframe\">\n  <thead>\n    <tr style=\"text-align: right;\">\n      <th></th>\n      <th>code</th>\n      <th>ann_date</th>\n      <th>end_date</th>\n      <th>revenue_ps</th>\n    </tr>\n  </thead>\n  <tbody>\n    <tr>\n      <th>0</th>\n      <td>601333.SH</td>\n      <td>2.1102</td>\n      <td>20210930</td>\n      <td>2.8940</td>\n    </tr>\n    <tr>\n      <th>1</th>\n      <td>002629.SZ</td>\n      <td>0.2209</td>\n      <td>20210930</td>\n      <td>0.3765</td>\n    </tr>\n    <tr>\n      <th>2</th>\n      <td>002433.SZ</td>\n      <td>1.8861</td>\n      <td>20210930</td>\n      <td>1.9774</td>\n    </tr>\n    <tr>\n      <th>3</th>\n      <td>002901.SZ</td>\n      <td>3.2208</td>\n      <td>20210930</td>\n      <td>4.6621</td>\n    </tr>\n    <tr>\n      <th>4</th>\n      <td>002869.SZ</td>\n      <td>1.3186</td>\n      <td>20210930</td>\n      <td>2.3227</td>\n    </tr>\n    <tr>\n      <th>...</th>\n      <td>...</td>\n      <td>...</td>\n      <td>...</td>\n      <td>...</td>\n    </tr>\n    <tr>\n      <th>4686</th>\n      <td>000066.SZ</td>\n      <td>4.0394</td>\n      <td>20210930</td>\n      <td>4.9539</td>\n    </tr>\n    <tr>\n      <th>4687</th>\n      <td>301116.SZ</td>\n      <td>29.2571</td>\n      <td>20210930</td>\n      <td>41.0125</td>\n    </tr>\n    <tr>\n      <th>4688</th>\n      <td>300851.SZ</td>\n      <td>1.9182</td>\n      <td>20210930</td>\n      <td>4.2548</td>\n    </tr>\n    <tr>\n      <th>4689</th>\n      <td>002691.SZ</td>\n      <td>0.6144</td>\n      <td>20210930</td>\n      <td>0.9609</td>\n    </tr>\n    <tr>\n      <th>4690</th>\n      <td>300289.SZ</td>\n      <td>0.7570</td>\n      <td>20210930</td>\n      <td>1.2760</td>\n    </tr>\n  </tbody>\n</table>\n<p>4691 rows × 4 columns</p>\n</div>"
     },
     "execution_count": 56,
     "metadata": {},
     "output_type": "execute_result"
    }
   ],
   "source": [
    "result_df"
   ],
   "metadata": {
    "collapsed": false,
    "ExecuteTime": {
     "start_time": "2023-04-05T20:14:20.940638Z",
     "end_time": "2023-04-05T20:14:20.970645Z"
    }
   }
  },
  {
   "cell_type": "code",
   "execution_count": 73,
   "outputs": [
    {
     "name": "stdout",
     "output_type": "stream",
     "text": [
      "1141\r"
     ]
    }
   ],
   "source": [
    "# 生成revenue-ps的TTM数据\n",
    "threshold_date = '20230331'\n",
    "indicator = 'revenue_ps'\n",
    "target_period = '20221231'\n",
    "indicators = [indicator]\n",
    "period_list = get_TTM_period_list(target_period)\n",
    "df = get_fin_indicators(target_period, indicators)\n",
    "selected_sec_ls = df.ts_code.tolist()\n",
    "if len(period_list) > 1:\n",
    "    for period in period_list[1:]:\n",
    "        new_df = get_fin_indicators(period, indicators)\n",
    "        selected_sec_ls = list(set(selected_sec_ls) & set(new_df.ts_code.tolist()))\n",
    "        df = pd.concat([df, new_df], ignore_index=True)\n",
    "df = df.loc[df['ts_code'].isin(selected_sec_ls)]\n",
    "df = df.reset_index()\n",
    "# 针对公告修正进行调整\n",
    "#使用 Pandas 库的 groupby() 函数将 Dataframe 中具有相同 col1 和 col2 值的行分组\n",
    "groups = df.groupby(['ts_code', 'end_date'], group_keys=True)\n",
    "\n",
    "\n",
    "def filter_group(group):\n",
    "    if (group['update_flag'] == '0').all():\n",
    "        return group\n",
    "    return group[group['update_flag'] != '0']\n",
    "\n",
    "\n",
    "df_filtered = groups.apply(filter_group)\n",
    "df_filtered = df_filtered.set_index('index')\n",
    "df_filtered = df_filtered.loc[df_filtered['ann_date'] <= threshold_date].copy()\n",
    "origin_sec_ls = list(set(df_filtered.ts_code.tolist()))\n",
    "# 得到指定指标的TTM数据\n",
    "indicator = 'revenue_ps'\n",
    "result_df = pd.DataFrame(columns=['code', 'ann_date', 'period', indicator + '_TTM'])\n",
    "i = 0\n",
    "for sec in origin_sec_ls:\n",
    "    print(i, end='\\r')\n",
    "    ann_date = \\\n",
    "        df_filtered.loc[\n",
    "            (df_filtered['ts_code'] == sec) & (df_filtered['end_date'] == target_period), 'ann_date'].iloc[0]\n",
    "    if len(period_list) > 1:\n",
    "        indicator_data = \\\n",
    "            df_filtered.loc[\n",
    "                (df_filtered['ts_code'] == sec) & (df_filtered['end_date'] == period_list[0]), indicator].iloc[\n",
    "                0] + \\\n",
    "            df_filtered.loc[\n",
    "                (df_filtered['ts_code'] == sec) & (df_filtered['end_date'] == period_list[1]), indicator].iloc[\n",
    "                0] - \\\n",
    "            df_filtered.loc[\n",
    "                (df_filtered['ts_code'] == sec) & (df_filtered['end_date'] == period_list[2]), indicator].iloc[\n",
    "                0]\n",
    "    else:\n",
    "        indicator_data = \\\n",
    "            df_filtered.loc[\n",
    "                (df_filtered['ts_code'] == sec) & (df_filtered['end_date'] == period_list[0]), indicator].iloc[\n",
    "                0]\n",
    "    result_df.loc[i] = [sec, ann_date, target_period, indicator_data]\n",
    "    i += 1\n"
   ],
   "metadata": {
    "collapsed": false,
    "ExecuteTime": {
     "start_time": "2023-04-05T20:27:37.279274Z",
     "end_time": "2023-04-05T20:27:40.035904Z"
    }
   }
  },
  {
   "cell_type": "code",
   "execution_count": 79,
   "outputs": [],
   "source": [
    "# 根据提取数据的日期生成此时已经发布截至的业绩报告期\n",
    "def get_yj_period(date):\n",
    "    year = date[:4]\n",
    "    short_date = date[4:]\n",
    "    if short_date <= '0430':\n",
    "        yj_period = str(int(year) - 1) + '0930'\n",
    "    elif short_date <= '0830':\n",
    "        yj_period = year + '0331'\n",
    "    elif short_date <= '1030':\n",
    "        yj_period = year + '0630'\n",
    "    else:\n",
    "        yj_period = year + '0930'\n",
    "    return yj_period"
   ],
   "metadata": {
    "collapsed": false,
    "ExecuteTime": {
     "start_time": "2023-04-05T20:32:52.840879Z",
     "end_time": "2023-04-05T20:32:52.851890Z"
    }
   }
  },
  {
   "cell_type": "code",
   "execution_count": 80,
   "outputs": [
    {
     "name": "stdout",
     "output_type": "stream",
     "text": [
      "4690\r"
     ]
    },
    {
     "data": {
      "text/plain": "           code  ann_date    period  revenue_ps_TTM\n0     601333.SH  20221028  20220930          2.8940\n1     002629.SZ  20221025  20220930          0.3765\n2     002433.SZ  20221028  20220930          1.9774\n3     002901.SZ  20221028  20220930          4.6621\n4     002869.SZ  20221027  20220930          2.3227\n...         ...       ...       ...             ...\n4686  000066.SZ  20221029  20220930          4.9539\n4687  301116.SZ  20221025  20220930         41.0125\n4688  300851.SZ  20221027  20220930          4.2548\n4689  002691.SZ  20221027  20220930          0.9609\n4690  300289.SZ  20221022  20220930          1.2760\n\n[4691 rows x 4 columns]",
      "text/html": "<div>\n<style scoped>\n    .dataframe tbody tr th:only-of-type {\n        vertical-align: middle;\n    }\n\n    .dataframe tbody tr th {\n        vertical-align: top;\n    }\n\n    .dataframe thead th {\n        text-align: right;\n    }\n</style>\n<table border=\"1\" class=\"dataframe\">\n  <thead>\n    <tr style=\"text-align: right;\">\n      <th></th>\n      <th>code</th>\n      <th>ann_date</th>\n      <th>period</th>\n      <th>revenue_ps_TTM</th>\n    </tr>\n  </thead>\n  <tbody>\n    <tr>\n      <th>0</th>\n      <td>601333.SH</td>\n      <td>20221028</td>\n      <td>20220930</td>\n      <td>2.8940</td>\n    </tr>\n    <tr>\n      <th>1</th>\n      <td>002629.SZ</td>\n      <td>20221025</td>\n      <td>20220930</td>\n      <td>0.3765</td>\n    </tr>\n    <tr>\n      <th>2</th>\n      <td>002433.SZ</td>\n      <td>20221028</td>\n      <td>20220930</td>\n      <td>1.9774</td>\n    </tr>\n    <tr>\n      <th>3</th>\n      <td>002901.SZ</td>\n      <td>20221028</td>\n      <td>20220930</td>\n      <td>4.6621</td>\n    </tr>\n    <tr>\n      <th>4</th>\n      <td>002869.SZ</td>\n      <td>20221027</td>\n      <td>20220930</td>\n      <td>2.3227</td>\n    </tr>\n    <tr>\n      <th>...</th>\n      <td>...</td>\n      <td>...</td>\n      <td>...</td>\n      <td>...</td>\n    </tr>\n    <tr>\n      <th>4686</th>\n      <td>000066.SZ</td>\n      <td>20221029</td>\n      <td>20220930</td>\n      <td>4.9539</td>\n    </tr>\n    <tr>\n      <th>4687</th>\n      <td>301116.SZ</td>\n      <td>20221025</td>\n      <td>20220930</td>\n      <td>41.0125</td>\n    </tr>\n    <tr>\n      <th>4688</th>\n      <td>300851.SZ</td>\n      <td>20221027</td>\n      <td>20220930</td>\n      <td>4.2548</td>\n    </tr>\n    <tr>\n      <th>4689</th>\n      <td>002691.SZ</td>\n      <td>20221027</td>\n      <td>20220930</td>\n      <td>0.9609</td>\n    </tr>\n    <tr>\n      <th>4690</th>\n      <td>300289.SZ</td>\n      <td>20221022</td>\n      <td>20220930</td>\n      <td>1.2760</td>\n    </tr>\n  </tbody>\n</table>\n<p>4691 rows × 4 columns</p>\n</div>"
     },
     "execution_count": 80,
     "metadata": {},
     "output_type": "execute_result"
    }
   ],
   "source": [
    "# 获取财务指标的TTM数据\n",
    "def get_TTM_fin_data(target_period, threshold_date, indicator):\n",
    "    indicators = [indicator]\n",
    "    period_list = get_TTM_period_list(target_period)\n",
    "    df = get_fin_indicators(target_period, indicators)\n",
    "    selected_sec_ls = df.ts_code.tolist()\n",
    "    if len(period_list) > 1:\n",
    "        for period in period_list[1:]:\n",
    "            new_df = get_fin_indicators(period, indicators)\n",
    "            selected_sec_ls = list(set(selected_sec_ls) & set(new_df.ts_code.tolist()))\n",
    "            df = pd.concat([df, new_df], ignore_index=True)\n",
    "    df = df.loc[df['ts_code'].isin(selected_sec_ls)]\n",
    "    df = df.reset_index()\n",
    "    # 针对公告修正进行调整\n",
    "    #使用 Pandas 库的 groupby() 函数将 Dataframe 中具有相同 col1 和 col2 值的行分组\n",
    "    groups = df.groupby(['ts_code', 'end_date'], group_keys=True)\n",
    "\n",
    "    def filter_group(group):\n",
    "        if (group['update_flag'] == '0').all():\n",
    "            return group\n",
    "        return group[group['update_flag'] != '0']\n",
    "\n",
    "    df_filtered = groups.apply(filter_group)\n",
    "    df_filtered = df_filtered.set_index('index')\n",
    "    df_filtered = df_filtered.loc[df_filtered['ann_date'] <= threshold_date].copy()\n",
    "    origin_sec_ls = list(set(df_filtered.ts_code.tolist()))\n",
    "    # 得到指定指标的TTM数据\n",
    "    indicator = 'revenue_ps'\n",
    "    result_df = pd.DataFrame(columns=['code', 'ann_date', 'period', indicator + '_TTM'])\n",
    "    i = 0\n",
    "    for sec in origin_sec_ls:\n",
    "        print(i, end='\\r')\n",
    "        ann_date = \\\n",
    "            df_filtered.loc[\n",
    "                (df_filtered['ts_code'] == sec) & (df_filtered['end_date'] == target_period), 'ann_date'].iloc[0]\n",
    "        if len(period_list) > 1:\n",
    "            indicator_data = \\\n",
    "                df_filtered.loc[\n",
    "                    (df_filtered['ts_code'] == sec) & (df_filtered['end_date'] == period_list[0]), indicator].iloc[\n",
    "                    0] + \\\n",
    "                df_filtered.loc[\n",
    "                    (df_filtered['ts_code'] == sec) & (df_filtered['end_date'] == period_list[1]), indicator].iloc[\n",
    "                    0] - \\\n",
    "                df_filtered.loc[\n",
    "                    (df_filtered['ts_code'] == sec) & (df_filtered['end_date'] == period_list[2]), indicator].iloc[\n",
    "                    0]\n",
    "        else:\n",
    "            indicator_data = \\\n",
    "                df_filtered.loc[\n",
    "                    (df_filtered['ts_code'] == sec) & (df_filtered['end_date'] == period_list[0]), indicator].iloc[\n",
    "                    0]\n",
    "        result_df.loc[i] = [sec, ann_date, target_period, indicator_data]\n",
    "        i += 1\n",
    "    return result_df\n",
    "\n",
    "\n",
    "threshold_date = '20230331'\n",
    "indicator = 'revenue_ps'\n",
    "target_period = get_yj_period(threshold_date)\n",
    "get_TTM_fin_data(target_period, threshold_date, indicator)"
   ],
   "metadata": {
    "collapsed": false,
    "ExecuteTime": {
     "start_time": "2023-04-05T20:32:55.221453Z",
     "end_time": "2023-04-05T20:33:50.358137Z"
    }
   }
  },
  {
   "cell_type": "code",
   "execution_count": null,
   "outputs": [],
   "source": [],
   "metadata": {
    "collapsed": false,
    "ExecuteTime": {
     "start_time": "2023-04-04T19:06:20.637032Z",
     "end_time": "2023-04-04T19:06:20.665039Z"
    }
   }
  },
  {
   "cell_type": "code",
   "execution_count": null,
   "outputs": [],
   "source": [],
   "metadata": {
    "collapsed": false,
    "ExecuteTime": {
     "start_time": "2023-04-05T19:51:36.675001Z",
     "end_time": "2023-04-05T19:51:36.739016Z"
    }
   }
  },
  {
   "cell_type": "code",
   "execution_count": null,
   "outputs": [],
   "source": [],
   "metadata": {
    "collapsed": false
   }
  },
  {
   "cell_type": "code",
   "execution_count": null,
   "outputs": [],
   "source": [],
   "metadata": {
    "collapsed": false
   }
  },
  {
   "cell_type": "code",
   "execution_count": null,
   "outputs": [],
   "source": [],
   "metadata": {
    "collapsed": false
   }
  },
  {
   "cell_type": "code",
   "execution_count": null,
   "outputs": [],
   "source": [],
   "metadata": {
    "collapsed": false
   }
  },
  {
   "cell_type": "code",
   "execution_count": null,
   "outputs": [],
   "source": [],
   "metadata": {
    "collapsed": false
   }
  },
  {
   "cell_type": "code",
   "execution_count": null,
   "outputs": [],
   "source": [],
   "metadata": {
    "collapsed": false
   }
  },
  {
   "cell_type": "code",
   "execution_count": null,
   "outputs": [],
   "source": [],
   "metadata": {
    "collapsed": false
   }
  }
 ],
 "metadata": {
  "kernelspec": {
   "display_name": "Python 3",
   "language": "python",
   "name": "python3"
  },
  "language_info": {
   "codemirror_mode": {
    "name": "ipython",
    "version": 2
   },
   "file_extension": ".py",
   "mimetype": "text/x-python",
   "name": "python",
   "nbconvert_exporter": "python",
   "pygments_lexer": "ipython2",
   "version": "2.7.6"
  }
 },
 "nbformat": 4,
 "nbformat_minor": 0
}
